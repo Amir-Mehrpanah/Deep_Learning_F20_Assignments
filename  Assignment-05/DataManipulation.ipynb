{
  "nbformat": 4,
  "nbformat_minor": 0,
  "metadata": {
    "colab": {
      "name": "DataManipulation.ipynb",
      "provenance": [],
      "mount_file_id": "1iCTXLwUFK9mBXGt1cmoCjByRndOPmf1g",
      "authorship_tag": "ABX9TyNiRdh53pf0GuMyzRnrNDgn"
    },
    "kernelspec": {
      "name": "python3",
      "display_name": "Python 3"
    }
  },
  "cells": [
    {
      "cell_type": "markdown",
      "metadata": {
        "id": "X8ZQ3rv0Edw7"
      },
      "source": [
        "# Assignment Set 1\n",
        "\n",
        "by **Amir Mehrpanah** for Deep Learing Course at Data Science Center, SBU\n"
      ]
    },
    {
      "cell_type": "markdown",
      "metadata": {
        "id": "YESpi5WfT0V8"
      },
      "source": [
        "##Cleaning Data"
      ]
    },
    {
      "cell_type": "code",
      "metadata": {
        "id": "8XTzGuNPFtl4",
        "outputId": "ccd434fb-d92d-4b12-951e-497268bbb9b7",
        "colab": {
          "base_uri": "https://localhost:8080/",
          "height": 34
        }
      },
      "source": [
        "#@title Assert Existance!\n",
        "%ls data/imgs"
      ],
      "execution_count": 2,
      "outputs": [
        {
          "output_type": "stream",
          "text": [
            "2.jpg  pictur2.jpeg  picture.jpeg\n"
          ],
          "name": "stdout"
        }
      ]
    },
    {
      "cell_type": "code",
      "metadata": {
        "id": "9SU4dZEhUb2P",
        "outputId": "ac77b1f2-124d-4812-8632-9af38e512e44",
        "colab": {
          "base_uri": "https://localhost:8080/",
          "height": 34
        }
      },
      "source": [
        "#@title Assert Existance!\n",
        "%ls data/xls"
      ],
      "execution_count": 29,
      "outputs": [
        {
          "output_type": "stream",
          "text": [
            "win2.xls  wine1.xls\n"
          ],
          "name": "stdout"
        }
      ]
    },
    {
      "cell_type": "code",
      "metadata": {
        "id": "xKY077xsEkXE",
        "outputId": "dca2acd5-d8c9-43c5-85c6-56a8194cc74e",
        "colab": {
          "base_uri": "https://localhost:8080/",
          "height": 34
        }
      },
      "source": [
        "#@title Name imgs\n",
        "!rename 's/.jpeg/.jpg/' data/imgs/*.jpeg\n",
        "!n=1; for f in data/imgs/*.jpg; do mv \"$f\" \"data/imgs/$((n++)).${f##*.}\"; done\n",
        "%ls data/imgs"
      ],
      "execution_count": 28,
      "outputs": [
        {
          "output_type": "stream",
          "text": [
            "1.jpg  2.jpg  3.jpg\n"
          ],
          "name": "stdout"
        }
      ]
    },
    {
      "cell_type": "code",
      "metadata": {
        "id": "cFwVdEplUnD6",
        "outputId": "60ad1318-e2d3-4376-8698-e5e0807b14d3",
        "colab": {
          "base_uri": "https://localhost:8080/",
          "height": 34
        }
      },
      "source": [
        "#@title Name xls\n",
        "!n=1; for f in data/xls/*.xls; do mv \"$f\" \"data/xls/$((n++)).${f##*.}\"; done\n",
        "%ls data/xls"
      ],
      "execution_count": 30,
      "outputs": [
        {
          "output_type": "stream",
          "text": [
            "1.xls  2.xls\n"
          ],
          "name": "stdout"
        }
      ]
    },
    {
      "cell_type": "markdown",
      "metadata": {
        "id": "VL9FoVDmEkxa"
      },
      "source": [
        "## Reading Image Data"
      ]
    },
    {
      "cell_type": "code",
      "metadata": {
        "id": "NyPGsr9DTnit"
      },
      "source": [
        "img_paths = glob('data/imgs/*.jpg')\n",
        "imgs = []\n",
        "transformations = transforms.Compose([transforms.Resize((256,256)),\n",
        "                                      transforms.ToTensor()])\n",
        "\n",
        "for path in img_paths:\n",
        "    im = transformations(Image.open(path))\n",
        "    imgs.append(torch.unsqueeze(im, 0))"
      ],
      "execution_count": 60,
      "outputs": []
    },
    {
      "cell_type": "code",
      "metadata": {
        "id": "0dqF2izja3BU",
        "outputId": "c82b92d8-b252-4d90-c774-2770c82f9b7f",
        "colab": {
          "base_uri": "https://localhost:8080/",
          "height": 34
        }
      },
      "source": [
        "collated_in_one_tensor = torch.cat(imgs, 0)\n",
        "collated_in_one_tensor.shape # (N, C, H, W) "
      ],
      "execution_count": 62,
      "outputs": [
        {
          "output_type": "execute_result",
          "data": {
            "text/plain": [
              "torch.Size([3, 3, 256, 256])"
            ]
          },
          "metadata": {
            "tags": []
          },
          "execution_count": 62
        }
      ]
    },
    {
      "cell_type": "markdown",
      "metadata": {
        "id": "RQYfkOcnEoIJ"
      },
      "source": [
        "## Prepare Data by Data Loader"
      ]
    },
    {
      "cell_type": "code",
      "metadata": {
        "id": "5Ft9WS58DsXz"
      },
      "source": [
        "xls_paths = glob('data/xls/*.xls')\n",
        "\n",
        "dataloaders = []\n",
        "\n",
        "for xls_path in xls_paths:\n",
        "    x = pd.read_excel(xls_path)\n",
        "    y = pd.DataFrame(x.pop('quality'))\n",
        "\n",
        "    data = TensorDataset(torch.Tensor(np.array(x)),\n",
        "                                    torch.Tensor(np.array(y)))\n",
        "    dataloaders.append(DataLoader(data,batch_size = 32))"
      ],
      "execution_count": 81,
      "outputs": []
    },
    {
      "cell_type": "code",
      "metadata": {
        "id": "Qywd_okWfWqH",
        "outputId": "d13a41d5-7733-433b-d62b-48c5abfcaa8c",
        "colab": {
          "base_uri": "https://localhost:8080/",
          "height": 1000
        }
      },
      "source": [
        "iterator = iter(dataloaders[0]) \n",
        "batch = iterator.next()\n",
        "batch"
      ],
      "execution_count": 83,
      "outputs": [
        {
          "output_type": "execute_result",
          "data": {
            "text/plain": [
              "[tensor([[7.2000e+00, 2.3000e-01, 3.9000e-01, 1.4200e+01, 5.8000e-02, 4.9000e+01,\n",
              "          1.9200e+02, 9.9790e-01, 2.9800e+00, 4.8000e-01, 9.0000e+00],\n",
              "         [7.2000e+00, 2.3000e-01, 3.9000e-01, 1.4200e+01, 5.8000e-02, 4.9000e+01,\n",
              "          1.9200e+02, 9.9790e-01, 2.9800e+00, 4.8000e-01, 9.0000e+00],\n",
              "         [7.2000e+00, 2.3000e-01, 3.9000e-01, 1.4200e+01, 5.8000e-02, 4.9000e+01,\n",
              "          1.9200e+02, 9.9790e-01, 2.9800e+00, 4.8000e-01, 9.0000e+00],\n",
              "         [5.9000e+00, 1.5000e-01, 3.1000e-01, 5.8000e+00, 4.1000e-02, 5.3000e+01,\n",
              "          1.5500e+02, 9.9450e-01, 3.5200e+00, 4.6000e-01, 1.0500e+01],\n",
              "         [7.4000e+00, 2.8000e-01, 4.2000e-01, 1.9800e+01, 6.6000e-02, 5.3000e+01,\n",
              "          1.9500e+02, 1.0000e+00, 2.9600e+00, 4.4000e-01, 9.1000e+00],\n",
              "         [6.2000e+00, 2.8000e-01, 2.2000e-01, 7.3000e+00, 4.1000e-02, 2.6000e+01,\n",
              "          1.5700e+02, 9.9570e-01, 3.4400e+00, 6.4000e-01, 9.8000e+00],\n",
              "         [9.1000e+00, 5.9000e-01, 3.8000e-01, 1.6000e+00, 6.6000e-02, 3.4000e+01,\n",
              "          1.8200e+02, 9.9680e-01, 3.2300e+00, 3.8000e-01, 8.5000e+00],\n",
              "         [6.3000e+00, 3.3000e-01, 2.7000e-01, 1.2000e+00, 4.6000e-02, 3.4000e+01,\n",
              "          1.7500e+02, 9.9340e-01, 3.3700e+00, 5.4000e-01, 9.4000e+00],\n",
              "         [8.3000e+00, 3.9000e-01, 7.0000e-01, 1.0600e+01, 4.5000e-02, 3.3000e+01,\n",
              "          1.6900e+02, 9.9760e-01, 3.0900e+00, 5.7000e-01, 9.4000e+00],\n",
              "         [7.2000e+00, 1.9000e-01, 4.6000e-01, 3.8000e+00, 4.1000e-02, 8.2000e+01,\n",
              "          1.8700e+02, 9.9320e-01, 3.1900e+00, 6.0000e-01, 1.1200e+01],\n",
              "         [7.5000e+00, 1.7000e-01, 4.4000e-01, 1.1300e+01, 4.6000e-02, 6.5000e+01,\n",
              "          1.4600e+02, 9.9700e-01, 3.1700e+00, 4.5000e-01, 1.0000e+01],\n",
              "         [6.7000e+00, 1.7000e-01, 5.0000e-01, 2.1000e+00, 4.3000e-02, 2.7000e+01,\n",
              "          1.2200e+02, 9.9230e-01, 3.1500e+00, 4.5000e-01, 1.0300e+01],\n",
              "         [6.1000e+00, 4.1000e-01, 0.0000e+00, 1.6000e+00, 6.3000e-02, 3.6000e+01,\n",
              "          8.7000e+01, 9.9140e-01, 3.2700e+00, 6.7000e-01, 1.0800e+01],\n",
              "         [8.3000e+00, 2.0000e-01, 3.5000e-01, 9.0000e-01, 5.0000e-02, 1.2000e+01,\n",
              "          7.4000e+01, 9.9200e-01, 3.1300e+00, 3.8000e-01, 1.0500e+01],\n",
              "         [6.1000e+00, 4.1000e-01, 0.0000e+00, 1.6000e+00, 6.3000e-02, 3.6000e+01,\n",
              "          8.7000e+01, 9.9140e-01, 3.2700e+00, 6.7000e-01, 1.0800e+01],\n",
              "         [6.0000e+00, 2.9000e-01, 2.1000e-01, 1.3000e+00, 5.5000e-02, 4.2000e+01,\n",
              "          1.6800e+02, 9.9140e-01, 3.3200e+00, 4.3000e-01, 1.1100e+01],\n",
              "         [7.3000e+00, 4.1000e-01, 2.4000e-01, 6.8000e+00, 5.7000e-02, 4.1000e+01,\n",
              "          1.6300e+02, 9.9490e-01, 3.2000e+00, 4.1000e-01, 9.9000e+00],\n",
              "         [7.3000e+00, 4.1000e-01, 2.4000e-01, 6.8000e+00, 5.7000e-02, 4.1000e+01,\n",
              "          1.6300e+02, 9.9490e-01, 3.2000e+00, 4.1000e-01, 9.9000e+00],\n",
              "         [7.2000e+00, 4.3000e-01, 2.4000e-01, 6.7000e+00, 5.8000e-02, 4.0000e+01,\n",
              "          1.6300e+02, 9.9500e-01, 3.2000e+00, 4.1000e-01, 9.9000e+00],\n",
              "         [7.3000e+00, 4.0000e-01, 2.4000e-01, 6.7000e+00, 5.8000e-02, 4.1000e+01,\n",
              "          1.6600e+02, 9.9500e-01, 3.2000e+00, 4.1000e-01, 9.9000e+00],\n",
              "         [6.2000e+00, 3.3000e-01, 2.7000e-01, 4.9000e+00, 3.6000e-02, 3.0000e+01,\n",
              "          1.3400e+02, 9.9270e-01, 3.2000e+00, 4.2000e-01, 1.0400e+01],\n",
              "         [6.2000e+00, 3.1000e-01, 2.6000e-01, 4.8000e+00, 3.7000e-02, 3.6000e+01,\n",
              "          1.4800e+02, 9.9280e-01, 3.2100e+00, 4.1000e-01, 1.0400e+01],\n",
              "         [6.1000e+00, 3.6000e-01, 2.7000e-01, 2.1000e+00, 3.5000e-02, 1.6000e+01,\n",
              "          1.0000e+02, 9.9170e-01, 3.4000e+00, 7.1000e-01, 1.1500e+01],\n",
              "         [5.0000e+00, 5.5000e-01, 1.4000e-01, 8.3000e+00, 3.2000e-02, 3.5000e+01,\n",
              "          1.6400e+02, 9.9180e-01, 3.5300e+00, 5.1000e-01, 1.2500e+01],\n",
              "         [7.8000e+00, 2.5000e-01, 4.1000e-01, 3.7000e+00, 4.2000e-02, 3.7000e+01,\n",
              "          1.4900e+02, 9.9540e-01, 3.3600e+00, 4.5000e-01, 1.0000e+01],\n",
              "         [5.7000e+00, 3.6000e-01, 2.1000e-01, 6.7000e+00, 3.8000e-02, 5.1000e+01,\n",
              "          1.6600e+02, 9.9410e-01, 3.2900e+00, 6.3000e-01, 1.0000e+01],\n",
              "         [5.8000e+00, 3.4000e-01, 2.1000e-01, 6.6000e+00, 4.0000e-02, 5.0000e+01,\n",
              "          1.6700e+02, 9.9410e-01, 3.2900e+00, 6.2000e-01, 1.0000e+01],\n",
              "         [6.8000e+00, 2.8000e-01, 6.0000e-01, 1.1000e+00, 1.3200e-01, 4.2000e+01,\n",
              "          1.2700e+02, 9.9340e-01, 3.0900e+00, 4.4000e-01, 9.1000e+00],\n",
              "         [6.8000e+00, 2.5000e-01, 3.4000e-01, 4.7000e+00, 3.1000e-02, 3.4000e+01,\n",
              "          1.3400e+02, 9.9270e-01, 3.2100e+00, 3.8000e-01, 1.0600e+01],\n",
              "         [6.6000e+00, 2.4000e-01, 3.5000e-01, 7.7000e+00, 3.1000e-02, 3.6000e+01,\n",
              "          1.3500e+02, 9.9380e-01, 3.1900e+00, 3.7000e-01, 1.0500e+01],\n",
              "         [5.9000e+00, 3.0000e-01, 4.7000e-01, 7.8500e+00, 3.0000e-02, 1.9000e+01,\n",
              "          1.3300e+02, 9.9330e-01, 3.5200e+00, 4.3000e-01, 1.1500e+01],\n",
              "         [6.1000e+00, 1.2500e-01, 2.5000e-01, 3.3000e+00, 4.0000e-02, 1.0000e+01,\n",
              "          6.9000e+01, 9.9340e-01, 3.5400e+00, 5.9000e-01, 1.0100e+01]]),\n",
              " tensor([[7.],\n",
              "         [7.],\n",
              "         [7.],\n",
              "         [6.],\n",
              "         [5.],\n",
              "         [7.],\n",
              "         [3.],\n",
              "         [6.],\n",
              "         [5.],\n",
              "         [7.],\n",
              "         [6.],\n",
              "         [6.],\n",
              "         [6.],\n",
              "         [6.],\n",
              "         [6.],\n",
              "         [6.],\n",
              "         [6.],\n",
              "         [6.],\n",
              "         [5.],\n",
              "         [6.],\n",
              "         [7.],\n",
              "         [6.],\n",
              "         [7.],\n",
              "         [8.],\n",
              "         [6.],\n",
              "         [6.],\n",
              "         [5.],\n",
              "         [6.],\n",
              "         [6.],\n",
              "         [5.],\n",
              "         [7.],\n",
              "         [6.]])]"
            ]
          },
          "metadata": {
            "tags": []
          },
          "execution_count": 83
        }
      ]
    }
  ]
}