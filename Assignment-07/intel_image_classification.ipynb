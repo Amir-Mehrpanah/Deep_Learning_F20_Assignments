{
  "nbformat": 4,
  "nbformat_minor": 0,
  "metadata": {
    "kernelspec": {
      "name": "python3",
      "display_name": "Python 3",
      "language": "python"
    },
    "language_info": {
      "name": "python",
      "version": "3.7.6",
      "mimetype": "text/x-python",
      "codemirror_mode": {
        "name": "ipython",
        "version": 3
      },
      "pygments_lexer": "ipython3",
      "nbconvert_exporter": "python",
      "file_extension": ".py"
    },
    "colab": {
      "name": "intel-image-classification.ipynb",
      "provenance": []
    }
  },
  "cells": [
    {
      "cell_type": "markdown",
      "metadata": {
        "id": "Kv29Rb77g1TL"
      },
      "source": [
        "\n",
        "# Assignment Set 6\n",
        "\n",
        "by **Amir Mehrpanah** for Deep Learing Course at Data Science Center, SBU\n"
      ]
    },
    {
      "cell_type": "code",
      "metadata": {
        "_uuid": "d629ff2d2480ee46fbb7e2d37f6b5fab8052498a",
        "_cell_guid": "79c7e3d0-c299-4dcb-8224-4455121ee9b0",
        "trusted": true,
        "id": "fh0EWk_ee_ER",
        "outputId": "bf167725-a413-49ac-9857-edbf0fda0438"
      },
      "source": [
        "path = {'train':'/kaggle/input/intel-image-classification/seg_train/seg_train',\n",
        "        'validation': '/kaggle/input/intel-image-classification/seg_test/seg_test',\n",
        "        'test': '/kaggle/input/intel-image-classification/seg_pred/seg_pred'}\n",
        "classes = ['buildings', 'forest', 'glacier', 'mountain', 'sea', 'street']"
      ],
      "execution_count": null,
      "outputs": [
        {
          "output_type": "stream",
          "text": [
            "\u001b[0m\u001b[01;34mbuildings\u001b[0m/  \u001b[01;34mforest\u001b[0m/  \u001b[01;34mglacier\u001b[0m/  \u001b[01;34mmountain\u001b[0m/  \u001b[01;34msea\u001b[0m/  \u001b[01;34mstreet\u001b[0m/\r\n"
          ],
          "name": "stdout"
        }
      ]
    },
    {
      "cell_type": "markdown",
      "metadata": {
        "id": "2A-IfopJg7sV"
      },
      "source": [
        "## Define Pytorch Model"
      ]
    },
    {
      "cell_type": "code",
      "metadata": {
        "trusted": true,
        "id": "FGsswiISe_Eh"
      },
      "source": [
        "class CNN(nn.Module):\n",
        "    def __init__(self):\n",
        "        super().__init__()\n",
        "        self.conv1 = nn.Conv2d(3, 32, 3)\n",
        "        self.conv2 = nn.Conv2d(32, 32, 3)\n",
        "        self.conv3 = nn.Conv2d(32, 64, 3)\n",
        "        self.conv4 = nn.Conv2d(64, 64, 3)\n",
        "        self.pool = nn.MaxPool2d(2)\n",
        "        self.flat = nn.Flatten()\n",
        "        self.fc1 = nn.Linear(7*7*64, 7*7*16)\n",
        "        self.fc2 = nn.Linear(7*7*16, 7*7)\n",
        "        self.fc3 = nn.Linear(7*7, 6)\n",
        "\n",
        "    def forward(self, x):\n",
        "        x = self.pool(F.relu(self.conv1(x)))\n",
        "        x = self.pool(F.relu(self.conv2(x)))\n",
        "        x = self.pool(F.relu(self.conv3(x)))\n",
        "        x = self.pool(F.relu(self.conv4(x)))\n",
        "        x = self.flat(x)\n",
        "        x = F.relu(self.fc1(x))\n",
        "        x = F.relu(self.fc2(x))\n",
        "        x = F.softmax(self.fc3(x),dim=1)\n",
        "        return x\n",
        "\n",
        "\n",
        "cnn = CNN()"
      ],
      "execution_count": null,
      "outputs": []
    },
    {
      "cell_type": "code",
      "metadata": {
        "trusted": true,
        "id": "2w4gfIqEe_Et"
      },
      "source": [
        "loss_function = nn.CrossEntropyLoss()\n",
        "optimizer = optim.SGD(cnn.parameters(), lr=0.1, momentum=.5)"
      ],
      "execution_count": null,
      "outputs": []
    },
    {
      "cell_type": "markdown",
      "metadata": {
        "id": "voRVrA-IhAl_"
      },
      "source": [
        "## Training Loop"
      ]
    },
    {
      "cell_type": "code",
      "metadata": {
        "trusted": true,
        "id": "QGEkaKSCe_E4",
        "outputId": "aaed9513-6459-4ac7-b3b0-44d8b08faf13"
      },
      "source": [
        "use_cuda = torch.cuda.is_available()\n",
        "device = torch.device(\"cuda:0\" if use_cuda else \"cpu\")\n",
        "torch.backends.cudnn.benchmark = True\n",
        "\n",
        "params = {'batch_size': 128,\n",
        "          'shuffle': True,\n",
        "          'num_workers': 32\n",
        "         }\n",
        "max_epochs = 100\n",
        "transform = transforms.Compose([transforms.Resize((150,150)),\n",
        "                                transforms.ToTensor(),\n",
        "                                transforms.Normalize((0.5,), (0.5,))])\n",
        "\n",
        "training_set = datasets.ImageFolder(root=path['train'], transform=transform)\n",
        "training_generator = torch.utils.data.DataLoader(training_set, **params)\n",
        "validation_set = datasets.ImageFolder(root=path['validation'], transform=transform)\n",
        "validation_generator = torch.utils.data.DataLoader(validation_set, **params)\n",
        "\n",
        "cnn.to(device)\n",
        "train_epoch_loss = [] \n",
        "train_epoch_acc = [] \n",
        "val_epoch_loss = []\n",
        "val_epoch_acc = [] \n",
        "for epoch in range(max_epochs):\n",
        "    cnn.train()\n",
        "    running_loss = []\n",
        "    running_acc = []\n",
        "    for local_batch, local_labels in training_generator:\n",
        "        local_batch, local_labels = local_batch.to(device), local_labels.to(device)\n",
        "        optimizer.zero_grad()\n",
        "        outputs = cnn(local_batch)\n",
        "        loss = loss_function(outputs, local_labels)\n",
        "        loss.backward()\n",
        "        optimizer.step()\n",
        "        running_loss += [loss.item()]\n",
        "        _, predicted = torch.max(outputs, 1)\n",
        "        running_acc += [(predicted == local_labels).sum().item()/params['batch_size']]\n",
        "        \n",
        "    train_epoch_loss += [np.mean(running_loss)]\n",
        "    train_epoch_acc += [np.mean(running_acc)]\n",
        "    \n",
        "    cnn.eval()\n",
        "    running_loss = []\n",
        "    running_acc = []\n",
        "    class_correct = np.zeros(6)\n",
        "    class_total = np.zeros(6)\n",
        "    with torch.no_grad():\n",
        "        for local_batch, local_labels in validation_generator:\n",
        "            local_batch, local_labels = local_batch.to(device), local_labels.to(device)\n",
        "            outputs = cnn(local_batch)\n",
        "            loss = loss_function(outputs, local_labels)\n",
        "            running_loss += [loss.item()]\n",
        "            _, predicted = torch.max(outputs, 1)\n",
        "            running_acc += [(predicted == local_labels).sum().item()/params['batch_size']]\n",
        "\n",
        "    val_epoch_loss += [np.mean(running_loss)]\n",
        "    val_epoch_acc += [np.mean(running_acc)]\n",
        "    print('[{:d}] loss: {:7.5f} - acc: {:%} - val loss: {:7.5f} - val acc: {:%}'.format(epoch + 1, train_epoch_loss[-1],train_epoch_acc[-1], val_epoch_loss[-1],val_epoch_acc[-1]))"
      ],
      "execution_count": null,
      "outputs": [
        {
          "output_type": "stream",
          "text": [
            "[1] loss: 1.62994 - acc: 39.375000% - val loss: 1.59450 - val acc: 44.335938%\n",
            "[2] loss: 1.52116 - acc: 51.455966% - val loss: 1.50050 - val acc: 52.115885%\n",
            "[3] loss: 1.49220 - acc: 54.176136% - val loss: 1.47094 - val acc: 54.947917%\n",
            "[4] loss: 1.47449 - acc: 55.916193% - val loss: 1.45927 - val acc: 56.477865%\n",
            "[5] loss: 1.45620 - acc: 57.812500% - val loss: 1.41858 - val acc: 60.970052%\n",
            "[6] loss: 1.44720 - acc: 58.806818% - val loss: 1.51176 - val acc: 51.074219%\n",
            "[7] loss: 1.43413 - acc: 60.284091% - val loss: 1.42574 - val acc: 59.375000%\n",
            "[8] loss: 1.41416 - acc: 62.500000% - val loss: 1.43345 - val acc: 59.179688%\n",
            "[9] loss: 1.40829 - acc: 62.762784% - val loss: 1.42913 - val acc: 59.602865%\n",
            "[10] loss: 1.39438 - acc: 64.282670% - val loss: 1.46211 - val acc: 56.477865%\n",
            "[11] loss: 1.38113 - acc: 65.710227% - val loss: 1.40436 - val acc: 61.816406%\n",
            "[12] loss: 1.35953 - acc: 67.897727% - val loss: 1.35242 - val acc: 67.382812%\n",
            "[13] loss: 1.34013 - acc: 69.829545% - val loss: 1.34398 - val acc: 67.643229%\n",
            "[14] loss: 1.32181 - acc: 71.654830% - val loss: 1.32042 - val acc: 70.149740%\n",
            "[15] loss: 1.29925 - acc: 73.934659% - val loss: 1.31154 - val acc: 71.256510%\n",
            "[16] loss: 1.29126 - acc: 74.950284% - val loss: 1.34348 - val acc: 68.033854%\n",
            "[17] loss: 1.28073 - acc: 75.838068% - val loss: 1.28416 - val acc: 73.925781%\n",
            "[18] loss: 1.26471 - acc: 77.471591% - val loss: 1.31232 - val acc: 71.093750%\n",
            "[19] loss: 1.26233 - acc: 77.741477% - val loss: 1.27621 - val acc: 74.902344%\n",
            "[20] loss: 1.25416 - acc: 78.579545% - val loss: 1.35139 - val acc: 67.415365%\n",
            "[21] loss: 1.24253 - acc: 79.694602% - val loss: 1.27411 - val acc: 75.097656%\n",
            "[22] loss: 1.23558 - acc: 80.475852% - val loss: 1.28544 - val acc: 73.730469%\n",
            "[23] loss: 1.22746 - acc: 81.534091% - val loss: 1.29133 - val acc: 73.177083%\n",
            "[24] loss: 1.22613 - acc: 81.484375% - val loss: 1.27043 - val acc: 75.455729%\n",
            "[25] loss: 1.21396 - acc: 82.727273% - val loss: 1.27951 - val acc: 74.186198%\n",
            "[26] loss: 1.21449 - acc: 82.599432% - val loss: 1.27298 - val acc: 75.000000%\n",
            "[27] loss: 1.19962 - acc: 84.098011% - val loss: 1.26729 - val acc: 75.553385%\n",
            "[28] loss: 1.20443 - acc: 83.522727% - val loss: 1.25862 - val acc: 76.204427%\n",
            "[29] loss: 1.18690 - acc: 85.355114% - val loss: 1.27374 - val acc: 74.707031%\n",
            "[30] loss: 1.18435 - acc: 85.688920% - val loss: 1.28675 - val acc: 73.600260%\n",
            "[31] loss: 1.18201 - acc: 85.994318% - val loss: 1.26098 - val acc: 76.236979%\n",
            "[32] loss: 1.17675 - acc: 86.349432% - val loss: 1.25304 - val acc: 76.985677%\n",
            "[33] loss: 1.17221 - acc: 86.924716% - val loss: 1.25429 - val acc: 77.148438%\n",
            "[34] loss: 1.16511 - acc: 87.634943% - val loss: 1.25878 - val acc: 76.302083%\n",
            "[35] loss: 1.16602 - acc: 87.471591% - val loss: 1.27624 - val acc: 74.772135%\n",
            "[36] loss: 1.16077 - acc: 88.046875% - val loss: 1.25349 - val acc: 76.920573%\n",
            "[37] loss: 1.15570 - acc: 88.544034% - val loss: 1.24748 - val acc: 77.246094%\n",
            "[38] loss: 1.14801 - acc: 89.339489% - val loss: 1.24361 - val acc: 77.766927%\n",
            "[39] loss: 1.14818 - acc: 89.268466% - val loss: 1.26647 - val acc: 75.455729%\n",
            "[40] loss: 1.14634 - acc: 89.531250% - val loss: 1.24756 - val acc: 77.636719%\n",
            "[41] loss: 1.13994 - acc: 90.177557% - val loss: 1.25502 - val acc: 76.888021%\n",
            "[42] loss: 1.14055 - acc: 90.049716% - val loss: 1.23947 - val acc: 78.450521%\n",
            "[43] loss: 1.13498 - acc: 90.696023% - val loss: 1.24677 - val acc: 77.571615%\n",
            "[44] loss: 1.12994 - acc: 91.129261% - val loss: 1.23757 - val acc: 78.450521%\n",
            "[45] loss: 1.13220 - acc: 90.838068% - val loss: 1.25731 - val acc: 76.432292%\n",
            "[46] loss: 1.12873 - acc: 91.193182% - val loss: 1.23590 - val acc: 78.613281%\n",
            "[47] loss: 1.12771 - acc: 91.392045% - val loss: 1.25559 - val acc: 76.692708%\n",
            "[48] loss: 1.13176 - acc: 90.887784% - val loss: 1.24672 - val acc: 77.669271%\n",
            "[49] loss: 1.12118 - acc: 92.045455% - val loss: 1.25872 - val acc: 76.236979%\n",
            "[50] loss: 1.13203 - acc: 90.951705% - val loss: 1.26605 - val acc: 76.009115%\n",
            "[51] loss: 1.12105 - acc: 91.931818% - val loss: 1.24269 - val acc: 77.962240%\n",
            "[52] loss: 1.12066 - acc: 92.017045% - val loss: 1.30352 - val acc: 71.940104%\n",
            "[53] loss: 1.11606 - acc: 92.450284% - val loss: 1.27091 - val acc: 75.390625%\n",
            "[54] loss: 1.11716 - acc: 92.336648% - val loss: 1.24170 - val acc: 77.994792%\n",
            "[55] loss: 1.11597 - acc: 92.464489% - val loss: 1.25267 - val acc: 77.050781%\n",
            "[56] loss: 1.11147 - acc: 92.940341% - val loss: 1.25490 - val acc: 77.018229%\n",
            "[57] loss: 1.11495 - acc: 92.578125% - val loss: 1.24731 - val acc: 77.506510%\n",
            "[58] loss: 1.11634 - acc: 92.492898% - val loss: 1.24253 - val acc: 78.222656%\n",
            "[59] loss: 1.11428 - acc: 92.713068% - val loss: 1.26377 - val acc: 76.204427%\n",
            "[60] loss: 1.11060 - acc: 92.982955% - val loss: 1.26681 - val acc: 75.716146%\n",
            "[61] loss: 1.10620 - acc: 93.536932% - val loss: 1.24601 - val acc: 77.864583%\n",
            "[62] loss: 1.10912 - acc: 93.146307% - val loss: 1.24141 - val acc: 78.059896%\n",
            "[63] loss: 1.10666 - acc: 93.394886% - val loss: 1.24615 - val acc: 77.408854%\n",
            "[64] loss: 1.10579 - acc: 93.501420% - val loss: 1.25648 - val acc: 76.464844%\n",
            "[65] loss: 1.10011 - acc: 94.069602% - val loss: 1.24261 - val acc: 78.125000%\n",
            "[66] loss: 1.10256 - acc: 93.821023% - val loss: 1.23769 - val acc: 78.548177%\n",
            "[67] loss: 1.10053 - acc: 94.026989% - val loss: 1.24879 - val acc: 77.343750%\n",
            "[68] loss: 1.09828 - acc: 94.225852% - val loss: 1.24443 - val acc: 77.929688%\n",
            "[69] loss: 1.09967 - acc: 94.119318% - val loss: 1.24370 - val acc: 78.059896%\n",
            "[70] loss: 1.09851 - acc: 94.218750% - val loss: 1.24305 - val acc: 78.125000%\n",
            "[71] loss: 1.09596 - acc: 94.460227% - val loss: 1.24840 - val acc: 77.213542%\n",
            "[72] loss: 1.09572 - acc: 94.502841% - val loss: 1.25714 - val acc: 76.595052%\n",
            "[73] loss: 1.09652 - acc: 94.389205% - val loss: 1.24120 - val acc: 78.190104%\n",
            "[74] loss: 1.09536 - acc: 94.545455% - val loss: 1.24572 - val acc: 77.799479%\n",
            "[75] loss: 1.09719 - acc: 94.360795% - val loss: 1.24973 - val acc: 77.376302%\n",
            "[76] loss: 1.09528 - acc: 94.502841% - val loss: 1.24790 - val acc: 77.506510%\n",
            "[77] loss: 1.09444 - acc: 94.595170% - val loss: 1.23707 - val acc: 78.645833%\n",
            "[78] loss: 1.09813 - acc: 94.268466% - val loss: 1.24355 - val acc: 77.897135%\n",
            "[79] loss: 1.09623 - acc: 94.467330% - val loss: 1.25830 - val acc: 76.432292%\n",
            "[80] loss: 1.09348 - acc: 94.723011% - val loss: 1.24679 - val acc: 77.441406%\n",
            "[81] loss: 1.09502 - acc: 94.545455% - val loss: 1.24851 - val acc: 77.571615%\n",
            "[82] loss: 1.09638 - acc: 94.417614% - val loss: 1.24363 - val acc: 77.734375%\n",
            "[83] loss: 1.09453 - acc: 94.595170% - val loss: 1.24052 - val acc: 78.222656%\n",
            "[84] loss: 1.09485 - acc: 94.588068% - val loss: 1.23661 - val acc: 78.678385%\n",
            "[85] loss: 1.09261 - acc: 94.786932% - val loss: 1.24783 - val acc: 77.669271%\n",
            "[86] loss: 1.09288 - acc: 94.765625% - val loss: 1.23376 - val acc: 79.069010%\n",
            "[87] loss: 1.09131 - acc: 94.893466% - val loss: 1.24422 - val acc: 78.092448%\n",
            "[88] loss: 1.09158 - acc: 94.857955% - val loss: 1.23931 - val acc: 78.580729%\n",
            "[89] loss: 1.09151 - acc: 94.900568% - val loss: 1.23911 - val acc: 78.287760%\n",
            "[90] loss: 1.09022 - acc: 95.021307% - val loss: 1.24235 - val acc: 78.059896%\n",
            "[91] loss: 1.09164 - acc: 94.893466% - val loss: 1.24066 - val acc: 78.092448%\n",
            "[92] loss: 1.09114 - acc: 94.936080% - val loss: 1.24156 - val acc: 78.417969%\n",
            "[93] loss: 1.09110 - acc: 94.936080% - val loss: 1.23734 - val acc: 78.645833%\n",
            "[94] loss: 1.09446 - acc: 94.609375% - val loss: 1.24707 - val acc: 77.701823%\n",
            "[95] loss: 1.09520 - acc: 94.517045% - val loss: 1.24679 - val acc: 77.539062%\n",
            "[96] loss: 1.09287 - acc: 94.751420% - val loss: 1.23842 - val acc: 78.417969%\n",
            "[97] loss: 1.09139 - acc: 94.900568% - val loss: 1.23193 - val acc: 79.003906%\n",
            "[98] loss: 1.08996 - acc: 95.056818% - val loss: 1.24497 - val acc: 77.962240%\n",
            "[99] loss: 1.08928 - acc: 95.106534% - val loss: 1.23711 - val acc: 78.808594%\n",
            "[100] loss: 1.09179 - acc: 94.857955% - val loss: 1.23671 - val acc: 78.580729%\n"
          ],
          "name": "stdout"
        }
      ]
    },
    {
      "cell_type": "markdown",
      "metadata": {
        "id": "ZQHgLa-ahECF"
      },
      "source": [
        "## Plot Model Accuracy"
      ]
    },
    {
      "cell_type": "code",
      "metadata": {
        "trusted": true,
        "id": "RQx6ewLte_FF",
        "outputId": "1ec17847-2b74-4b10-8cde-c09e0c1c5532",
        "colab": {
          "base_uri": "https://localhost:8080/",
          "height": 303
        }
      },
      "source": [
        "plt.figure(figsize=(16,5))\n",
        "plt.plot(val_epoch_acc,label='val acc')\n",
        "plt.plot(train_epoch_acc,label='train acc')\n",
        "plt.legend()\n",
        "plt.show()"
      ],
      "execution_count": 7,
      "outputs": [
        {
          "output_type": "display_data",
          "data": {
            "image/png": "[encoded data removed]",
            "text/plain": [
              "<Figure size 1152x360 with 1 Axes>"
            ]
          },
          "metadata": {
            "tags": []
          }
        }
      ]
    }
  ]
}