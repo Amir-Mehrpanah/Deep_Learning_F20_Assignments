{
  "nbformat": 4,
  "nbformat_minor": 0,
  "metadata": {
    "colab": {
      "name": "ModelPool.ipynb",
      "provenance": [],
      "collapsed_sections": [],
      "mount_file_id": "1ARZZmm1Ul55fa3q-JFM2Nqoo7_2NKlnm",
      "authorship_tag": "ABX9TyO3jRkdHlV01gNUocLQITc0"
    },
    "kernelspec": {
      "name": "python3",
      "display_name": "Python 3"
    },
    "accelerator": "GPU"
  },
  "cells": [
    {
      "cell_type": "markdown",
      "metadata": {
        "id": "tOPzn6AmFw98",
        "colab_type": "text"
      },
      "source": [
        "\n",
        "#Assignment Set 2\n",
        "\n",
        "by **Amir Mehrpanah** for Deep Learing Course at Data Science Center, SBU\n",
        "\n"
      ]
    },
    {
      "cell_type": "code",
      "metadata": {
        "id": "wmgWR-ifEst1",
        "colab_type": "code",
        "cellView": "form",
        "colab": {}
      },
      "source": [
        "#@title Downloading The Data\n",
        "import urllib.request\n",
        "import os\n",
        "import ast \n",
        "import idx2numpy\n",
        "import glob \n",
        "\n",
        "print('Downloading cifar...')\n",
        "\n",
        "urls = ['https://www.cs.toronto.edu/~kriz/cifar-10-python.tar.gz',\n",
        "        'https://www.cs.toronto.edu/~kriz/cifar-100-python.tar.gz']\n",
        "for item in urls:\n",
        "    urllib.request.urlretrieve(item, 'data/cifar/'+item.split('/')[-1])\n",
        "\n",
        "!gunzip data/cifar/*.gz\n",
        "!ls data/cifar/*"
      ],
      "execution_count": null,
      "outputs": []
    },
    {
      "cell_type": "code",
      "metadata": {
        "id": "N0IfXwXSODOM",
        "colab_type": "code",
        "cellView": "form",
        "colab": {
          "base_uri": "https://localhost:8080/",
          "height": 120
        },
        "outputId": "4bf891b8-367c-4491-9e2d-6bd2c9d334a7"
      },
      "source": [
        "#@title Manual Data Injection\n",
        "from six.moves import cPickle as pickle\n",
        "import platform\n",
        "import numpy as np\n",
        " \n",
        "classes = ('plane', 'car', 'bird', 'cat',\n",
        "           'deer', 'dog', 'frog', 'horse', 'ship', 'truck')\n",
        "img_rows, img_cols = 32, 32\n",
        "input_shape = (img_rows, img_cols, 3)\n",
        "def load_pickle(f):\n",
        "    version = platform.python_version_tuple()\n",
        "    if version[0] == '2':\n",
        "        return  pickle.load(f)\n",
        "    elif version[0] == '3':\n",
        "        return  pickle.load(f, encoding='latin1')\n",
        "    raise ValueError(\"invalid python version: {}\".format(version))\n",
        "def load_CIFAR_batch(filename):\n",
        "    \"\"\" load single batch of cifar \"\"\"\n",
        "    with open(filename, 'rb') as f:\n",
        "        datadict = load_pickle(f)\n",
        "        X = datadict['data']\n",
        "        Y = datadict['labels']\n",
        "        X = X.reshape(10000,3072)\n",
        "        Y = np.array(Y)\n",
        "        return X, Y\n",
        "def load_CIFAR10(ROOT):\n",
        "    \"\"\" load all of cifar \"\"\"\n",
        "    xs = []\n",
        "    ys = []\n",
        "    for b in range(1,6):\n",
        "        f = os.path.join(ROOT, 'data_batch_%d' % (b, ))\n",
        "        X, Y = load_CIFAR_batch(f)\n",
        "        xs.append(X)\n",
        "        ys.append(Y)\n",
        "    Xtr = np.concatenate(xs)\n",
        "    Ytr = np.concatenate(ys)\n",
        "    del X, Y\n",
        "    Xte, Yte = load_CIFAR_batch(os.path.join(ROOT, 'test_batch'))\n",
        "    return Xtr, Ytr, Xte, Yte\n",
        " \n",
        "def get_CIFAR10_data(num_training=49000, num_validation=1000, num_test=10000):\n",
        "    # Load the raw CIFAR-10 data\n",
        "    cifar10_dir = 'data/cifar/cifar-10-batches-py/'\n",
        "    X_train, y_train, X_test, y_test = load_CIFAR10(cifar10_dir)\n",
        "    # Subsample the data\n",
        " \n",
        "    mask = range(num_training, num_training + num_validation)\n",
        "    X_val = X_train[mask]\n",
        "    y_val = y_train[mask]\n",
        " \n",
        "    mask = range(num_training)\n",
        "    X_train = X_train[mask]\n",
        "    y_train = y_train[mask]\n",
        " \n",
        "    mask = range(num_test)\n",
        "    X_test = X_test[mask]\n",
        "    y_test = y_test[mask]\n",
        " \n",
        "    x_train = X_train.astype('float32')\n",
        "    x_val = X_val.astype('float32')\n",
        "    x_test = X_test.astype('float32')\n",
        " \n",
        "    x_train /= 255\n",
        "    x_val /= 255\n",
        "    x_test /= 255\n",
        "    return x_train, y_train, x_val, y_val, x_test, y_test\n",
        " \n",
        "# Invoke the above function to get our data.\n",
        "x_train, y_train, x_val, y_val, x_test, y_test = get_CIFAR10_data()\n",
        " \n",
        "print('Train data shape: ', x_train.shape)\n",
        "print('Train labels shape: ', y_train.shape)\n",
        "print('Validation data shape: ', x_val.shape)\n",
        "print('Validation labels shape: ', y_val.shape)\n",
        "print('Test data shape: ', x_test.shape)\n",
        "print('Test labels shape: ', y_test.shape)"
      ],
      "execution_count": null,
      "outputs": [
        {
          "output_type": "stream",
          "text": [
            "Train data shape:  (49000, 3072)\n",
            "Train labels shape:  (49000,)\n",
            "Validation data shape:  (1000, 3072)\n",
            "Validation labels shape:  (1000,)\n",
            "Test data shape:  (10000, 3072)\n",
            "Test labels shape:  (10000,)\n"
          ],
          "name": "stdout"
        }
      ]
    },
    {
      "cell_type": "code",
      "metadata": {
        "id": "AvkWfFvCG4Ul",
        "colab_type": "code",
        "cellView": "form",
        "colab": {}
      },
      "source": [
        "#@title Single Hidden Layer NNs **Without** Output One-Hot Encoding\n",
        "#@markdown by using sparse categorical cross entropy there is no need to one-hot encode the true lables and from_logits set to true thus the model doesnt have any normalization layer.\n",
        "epochs =  20#@param {type:\"integer\"}\n",
        "verbose =  2#@param {type:\"number\"}\n",
        " \n",
        "mdl_pool = {}\n",
        " \n",
        "name = 'clf_flatten'\n",
        "input = keras.Input(shape=(3072,))\n",
        "x = layers.Dense(512, activation=\"relu\")(input)\n",
        "x = layers.Dropout(0.1)(x)\n",
        "x = layers.Dense(1024, activation=\"relu\")(x)\n",
        "x = layers.Dropout(0.1)(x)\n",
        "x = layers.Dense(512, activation=\"relu\")(x)\n",
        "output = layers.Dense(10)(x)\n",
        "model = keras.Model(inputs=input, outputs=output, name=name)\n",
        " \n",
        "model.compile(loss=keras.losses.SparseCategoricalCrossentropy(from_logits=True),\n",
        "                optimizer='Adam',\n",
        "                metrics=['accuracy'])\n",
        "mdl_pool[name] = {'params':model.count_params(),\n",
        "                    'nolayers':2}\n",
        "if(verbose):\n",
        "    model.summary()\n",
        "mdl_pool[name]['history'] = model.fit(x = x_train, y = y_train,\n",
        "                    batch_size=128, epochs=epochs,\n",
        "                    verbose=verbose,validation_data=(x_val,y_val),\n",
        "                    validation_batch_size = 64).history"
      ],
      "execution_count": null,
      "outputs": []
    },
    {
      "cell_type": "code",
      "metadata": {
        "id": "zO0liaqu1BmZ",
        "colab_type": "code",
        "cellView": "form",
        "colab": {
          "base_uri": "https://localhost:8080/",
          "height": 285
        },
        "outputId": "d32937e6-ff5f-4415-8722-91d8f865e800"
      },
      "source": [
        "#@title Plotting Training History\n",
        "plt.figure(figsize=(8,5))\n",
        "plt.plot(model.history.history['loss'])\n",
        "plt.plot(model.history.history['val_loss'])"
      ],
      "execution_count": null,
      "outputs": [
        {
          "output_type": "execute_result",
          "data": {
            "text/plain": [
              "[<matplotlib.lines.Line2D at 0x7f5b45a439e8>]"
            ]
          },
          "metadata": {
            "tags": []
          },
          "execution_count": 53
        },
        {
          "output_type": "display_data",
          "data": {
            "image/png": "[encoded data removed]",
            "text/plain": [
              "<Figure size 576x360 with 1 Axes>"
            ]
          },
          "metadata": {
            "tags": [],
            "needs_background": "light"
          }
        }
      ]
    },
    {
      "cell_type": "code",
      "metadata": {
        "id": "-7s-jcHr1EUm",
        "colab_type": "code",
        "cellView": "form",
        "colab": {
          "base_uri": "https://localhost:8080/",
          "height": 71
        },
        "outputId": "30df9351-6f74-45bf-cd1a-f26c539756ec"
      },
      "source": [
        "#@title Performance Analysis\n",
        "#@markdown After training different architectures, I failed to achieve more than 50% accuracy using flattened input\n",
        "model.evaluate(x_test, y_test)"
      ],
      "execution_count": null,
      "outputs": [
        {
          "output_type": "stream",
          "text": [
            "313/313 [==============================] - 2s 8ms/step - loss: 1.4013 - accuracy: 0.5050\n"
          ],
          "name": "stdout"
        },
        {
          "output_type": "execute_result",
          "data": {
            "text/plain": [
              "[1.4013090133666992, 0.5049999952316284]"
            ]
          },
          "metadata": {
            "tags": []
          },
          "execution_count": 54
        }
      ]
    },
    {
      "cell_type": "code",
      "metadata": {
        "id": "HE4WDCP9eSDE",
        "colab_type": "code",
        "cellView": "form",
        "colab": {
          "base_uri": "https://localhost:8080/",
          "height": 712
        },
        "outputId": "ea58f311-25f2-40d8-a158-c9612c68d0b8"
      },
      "source": [
        "#@title Multi Hidden Layer CNNs **Without** Output One-Hot Encoding\n",
        "#@markdown Training a convolutional neural network to compare the performance\n",
        "name = 'conv_clf_1'\n",
        " \n",
        "input = keras.Input(shape=(32,32,3))\n",
        "x = layers.Conv2D(32,3,activation=\"relu\")(input)\n",
        "x = layers.BatchNormalization()(x)\n",
        "x = layers.MaxPool2D()(x)\n",
        "x = layers.Dropout(0.25)(x)\n",
        "x = layers.Conv2D(32,3,activation='relu')(x)\n",
        "x = layers.BatchNormalization()(x)\n",
        "x = layers.Conv2D(32,3,activation=\"relu\")(x)\n",
        "x = layers.MaxPool2D()(x)\n",
        "x = layers.Conv2D(32,3,activation=\"relu\")(x)\n",
        "x = layers.Flatten()(x)\n",
        "x = layers.Dropout(0.35)(x)\n",
        "x = layers.Dense(128,activation=\"relu\")(x)\n",
        "x = layers.BatchNormalization()(x)\n",
        "x = layers.Dropout(0.5)(x)\n",
        "output = layers.Dense(10,'softmax')(x)\n",
        "model = keras.Model(inputs=input, outputs=output, name=name)\n",
        "model.compile(loss=keras.losses.SparseCategoricalCrossentropy(),\n",
        "            optimizer='Adam',\n",
        "            metrics=['accuracy'])\n",
        "model.summary()"
      ],
      "execution_count": 57,
      "outputs": [
        {
          "output_type": "stream",
          "text": [
            "Model: \"conv_clf_1\"\n",
            "_________________________________________________________________\n",
            "Layer (type)                 Output Shape              Param #   \n",
            "=================================================================\n",
            "input_12 (InputLayer)        [(None, 32, 32, 3)]       0         \n",
            "_________________________________________________________________\n",
            "conv2d_44 (Conv2D)           (None, 30, 30, 32)        896       \n",
            "_________________________________________________________________\n",
            "batch_normalization_9 (Batch (None, 30, 30, 32)        128       \n",
            "_________________________________________________________________\n",
            "max_pooling2d_22 (MaxPooling (None, 15, 15, 32)        0         \n",
            "_________________________________________________________________\n",
            "dropout_19 (Dropout)         (None, 15, 15, 32)        0         \n",
            "_________________________________________________________________\n",
            "conv2d_45 (Conv2D)           (None, 13, 13, 32)        9248      \n",
            "_________________________________________________________________\n",
            "batch_normalization_10 (Batc (None, 13, 13, 32)        128       \n",
            "_________________________________________________________________\n",
            "conv2d_46 (Conv2D)           (None, 11, 11, 32)        9248      \n",
            "_________________________________________________________________\n",
            "max_pooling2d_23 (MaxPooling (None, 5, 5, 32)          0         \n",
            "_________________________________________________________________\n",
            "conv2d_47 (Conv2D)           (None, 3, 3, 32)          9248      \n",
            "_________________________________________________________________\n",
            "flatten_11 (Flatten)         (None, 288)               0         \n",
            "_________________________________________________________________\n",
            "dropout_20 (Dropout)         (None, 288)               0         \n",
            "_________________________________________________________________\n",
            "dense_29 (Dense)             (None, 128)               36992     \n",
            "_________________________________________________________________\n",
            "batch_normalization_11 (Batc (None, 128)               512       \n",
            "_________________________________________________________________\n",
            "dropout_21 (Dropout)         (None, 128)               0         \n",
            "_________________________________________________________________\n",
            "dense_30 (Dense)             (None, 10)                1290      \n",
            "=================================================================\n",
            "Total params: 67,690\n",
            "Trainable params: 67,306\n",
            "Non-trainable params: 384\n",
            "_________________________________________________________________\n"
          ],
          "name": "stdout"
        }
      ]
    },
    {
      "cell_type": "code",
      "metadata": {
        "id": "lnDLBkFfNZpT",
        "colab_type": "code",
        "cellView": "form",
        "colab": {}
      },
      "source": [
        "epochs =  100#@param {type:\"integer\"}\n",
        "verbose =  2#@param {type:\"number\"}\n",
        "model.fit(x = x_train, y = y_train,\n",
        "                        batch_size=64, epochs=epochs,\n",
        "                        verbose=verbose,validation_data=(x_val,y_val),\n",
        "                        validation_batch_size = 32)"
      ],
      "execution_count": null,
      "outputs": []
    },
    {
      "cell_type": "code",
      "metadata": {
        "id": "_QXjlr8HNcOn",
        "colab_type": "code",
        "colab": {
          "base_uri": "https://localhost:8080/",
          "height": 337
        },
        "outputId": "ab24d071-13d8-431f-f03e-3cfc4044c5a6"
      },
      "source": [
        "plt.figure(figsize=(8,5))\n",
        "plt.plot(model.history.history['loss'])\n",
        "plt.plot(model.history.history['val_loss'])"
      ],
      "execution_count": 59,
      "outputs": [
        {
          "output_type": "execute_result",
          "data": {
            "text/plain": [
              "[<matplotlib.lines.Line2D at 0x7f6c8349bc88>]"
            ]
          },
          "metadata": {
            "tags": []
          },
          "execution_count": 59
        },
        {
          "output_type": "display_data",
          "data": {
            "image/png": "[encoded data removed]",
            "text/plain": [
              "<Figure size 576x360 with 1 Axes>"
            ]
          },
          "metadata": {
            "tags": [],
            "needs_background": "light"
          }
        }
      ]
    },
    {
      "cell_type": "code",
      "metadata": {
        "id": "48RxDHxN_sWl",
        "colab_type": "code",
        "colab": {
          "base_uri": "https://localhost:8080/",
          "height": 52
        },
        "outputId": "778d36af-3c84-4ff5-e31d-dd6373dd567d"
      },
      "source": [
        "model.evaluate(x_test, y_test)"
      ],
      "execution_count": 60,
      "outputs": [
        {
          "output_type": "stream",
          "text": [
            "313/313 [==============================] - 1s 3ms/step - loss: 0.6828 - accuracy: 0.7784\n"
          ],
          "name": "stdout"
        },
        {
          "output_type": "execute_result",
          "data": {
            "text/plain": [
              "[0.6828324794769287, 0.7784000039100647]"
            ]
          },
          "metadata": {
            "tags": []
          },
          "execution_count": 60
        }
      ]
    }
  ]
}