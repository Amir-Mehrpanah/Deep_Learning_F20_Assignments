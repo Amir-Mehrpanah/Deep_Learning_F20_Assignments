{
  "nbformat": 4,
  "nbformat_minor": 0,
  "metadata": {
    "accelerator": "GPU",
    "colab": {
      "name": "Enzymes.ipynb",
      "provenance": [],
      "collapsed_sections": [],
      "authorship_tag": "ABX9TyOhwo2xBSlwHdGC9+JwOleb"
    },
    "kernelspec": {
      "display_name": "Python 3",
      "name": "python3"
    }
  },
  "cells": [
    {
      "cell_type": "markdown",
      "metadata": {
        "id": "a_ZeFioxxuzh"
      },
      "source": [
        "# GNN for Graph Classification"
      ]
    },
    {
      "cell_type": "markdown",
      "metadata": {
        "id": "dPt34e0qx2_p"
      },
      "source": [
        "## Installing Dependencies"
      ]
    },
    {
      "cell_type": "code",
      "metadata": {
        "id": "fKD-Yb3ExWVk"
      },
      "source": [
        "!python -c \"import torch; print(torch.__version__)\"\r\n",
        "!pip install --no-index torch-scatter -f https://pytorch-geometric.com/whl/torch-1.7.0+cu101.html\r\n",
        "!pip install --no-index torch-sparse -f https://pytorch-geometric.com/whl/torch-1.7.0+cu101.html\r\n",
        "!pip install --no-index torch-cluster -f https://pytorch-geometric.com/whl/torch-1.7.0+cu101.html\r\n",
        "!pip install --no-index torch-spline-conv -f https://pytorch-geometric.com/whl/torch-1.7.0+cu101.html\r\n",
        "!pip install torch-geometric"
      ],
      "execution_count": null,
      "outputs": []
    },
    {
      "cell_type": "markdown",
      "metadata": {
        "id": "4aqKszDex5pw"
      },
      "source": [
        "## Importing Dependencies"
      ]
    },
    {
      "cell_type": "code",
      "metadata": {
        "id": "Cs7lb8Icxby2"
      },
      "source": [
        "import networkx as nx\r\n",
        "import torch\r\n",
        "import numpy as np\r\n",
        "import pandas as pd\r\n",
        "import matplotlib.pyplot as plt\r\n",
        "from torch_geometric.datasets import Planetoid\r\n",
        "from torch_geometric.datasets import TUDataset\r\n",
        "from torch_geometric.data import DataLoader\r\n",
        "from torch_geometric.utils.convert import to_networkx\r\n",
        "import torch.nn.functional as F\r\n",
        "from torch_geometric.nn import GCNConv\r\n",
        "from torch.nn import Linear"
      ],
      "execution_count": 3,
      "outputs": []
    },
    {
      "cell_type": "markdown",
      "metadata": {
        "id": "rBybAtGBx8ZO"
      },
      "source": [
        "## Defining the GNN Model"
      ]
    },
    {
      "cell_type": "code",
      "metadata": {
        "id": "7RcWUezwxYCJ"
      },
      "source": [
        "class EnzymeNet(torch.nn.Module):\r\n",
        "    def __init__(self):\r\n",
        "        super(EnzymeNet, self).__init__()\r\n",
        "        self.num_gcns1 = 5\r\n",
        "        self.out_gcns1 = 3\r\n",
        "        self.gcns1 = torch.nn.ModuleList()\r\n",
        "        for _ in range(self.num_gcns1):\r\n",
        "            self.gcns1.append(GCNConv(21, self.out_gcns1))\r\n",
        "\r\n",
        "        self.num_gcns2 = 5\r\n",
        "        self.mid_gcns2 = 8\r\n",
        "        self.out_gcns2 = 3\r\n",
        "        self.gcns2 = torch.nn.ModuleList()\r\n",
        "        for _ in range(self.num_gcns2):\r\n",
        "            self.gcns2.append(GCNConv(21, self.mid_gcns2))\r\n",
        "            self.gcns2.append(GCNConv(self.mid_gcns2, self.out_gcns2))\r\n",
        "\r\n",
        "        self.layer51 = Linear(self.num_gcns1 * self.out_gcns1, 7)\r\n",
        "        self.layer52 = Linear(self.num_gcns2 * self.out_gcns2, 7)\r\n",
        "        self.layer6 = Linear(14, 7)\r\n",
        "        # self.layer7 = Linear(20,7)\r\n",
        "\r\n",
        "    def forward(self, data):\r\n",
        "        batch_size = max(data.batch)+1\r\n",
        "        x, edge_index = data.x, data.edge_index\r\n",
        "        t1 = []\r\n",
        "        for gcn in self.gcns1:\r\n",
        "            u = gcn(x, edge_index)\r\n",
        "            u = F.relu(u)\r\n",
        "            v =[]\r\n",
        "            for i in range(batch_size):\r\n",
        "                idx = data.batch == i\r\n",
        "                v.append(torch.divide(torch.sum(u[idx],dim=0),sum(idx)))\r\n",
        "            t1.append(torch.cat(v).view(-1,self.out_gcns1))\r\n",
        "        t2 = []\r\n",
        "        for index , gcn in enumerate(self.gcns2):\r\n",
        "            if index % 2 == 0:\r\n",
        "                continue\r\n",
        "            u = self.gcns2[index-1](x, edge_index)\r\n",
        "            u = F.relu(u)\r\n",
        "            u = self.gcns2[index](u, edge_index)\r\n",
        "            u = F.relu(u)\r\n",
        "            v =[]\r\n",
        "            for i in range(batch_size):\r\n",
        "                idx = data.batch == i\r\n",
        "                v.append(torch.divide(torch.sum(u[idx],dim=0),sum(idx)))\r\n",
        "            t2.append(torch.cat(v).view(-1,self.out_gcns1))\r\n",
        "        x1 = torch.cat(t1).view(-1,self.out_gcns1*self.num_gcns1)\r\n",
        "        x2 = torch.cat(t2).view(-1,self.out_gcns2*self.num_gcns2)\r\n",
        "        x1 = self.layer51(x1)\r\n",
        "        x1 = F.relu(x1)\r\n",
        "        x2 = self.layer52(x2)\r\n",
        "        x2 = F.relu(x2)\r\n",
        "        x = torch.cat([x1,x2]).view(-1,14)\r\n",
        "        x = self.layer6(x)\r\n",
        "        x = F.relu(x)\r\n",
        "        # x = self.layer7(x)\r\n",
        "        # x = F.relu(x)\r\n",
        "        return F.log_softmax(x,dim=0)"
      ],
      "execution_count": 4,
      "outputs": []
    },
    {
      "cell_type": "markdown",
      "metadata": {
        "id": "I-MPTiM0yH6g"
      },
      "source": [
        "## Importing ENZYMES Dataset"
      ]
    },
    {
      "cell_type": "code",
      "metadata": {
        "id": "oJGbKaaZyRnW"
      },
      "source": [
        "dataset = TUDataset(root='/tmp/ENZYMES', name='ENZYMES', use_node_attr=True).shuffle()\r\n",
        "datasize = len(dataset)\r\n",
        "train_set = dataset[:int(datasize*.6)]\r\n",
        "val_set = dataset[int(datasize*.6):int(datasize*.8)]\r\n",
        "test_set = dataset[int(datasize*.8):]"
      ],
      "execution_count": null,
      "outputs": []
    },
    {
      "cell_type": "markdown",
      "metadata": {
        "id": "rEWBv2thzaEH"
      },
      "source": [
        "## Train the GNN"
      ]
    },
    {
      "cell_type": "code",
      "metadata": {
        "colab": {
          "base_uri": "https://localhost:8080/"
        },
        "id": "5IZO0AN1zacr",
        "outputId": "fc545e78-68a8-4ada-a1f7-8d31019562cd"
      },
      "source": [
        "device = torch.device('cuda')\r\n",
        "batch_size = 32\r\n",
        "model = EnzymeNet().to(device)\r\n",
        "train_loader = DataLoader(train_set, batch_size=batch_size, shuffle=True)\r\n",
        "test_loader = DataLoader(test_set, batch_size=batch_size, shuffle=True)\r\n",
        "optimizer = torch.optim.RMSprop(model.parameters(), lr=0.0001, weight_decay=5e-4)\r\n",
        "epochs=20\r\n",
        "train_acc =[]\r\n",
        "val_acc=[]\r\n",
        "for epoch in range(epochs):\r\n",
        "    model.train()\r\n",
        "    acc = 0 \r\n",
        "    for batch in train_loader:\r\n",
        "        batch.to(device)\r\n",
        "        optimizer.zero_grad()\r\n",
        "        out = model(batch)\r\n",
        "        loss = F.nll_loss(out,batch.y)\r\n",
        "        loss.backward()\r\n",
        "        optimizer.step()\r\n",
        "        _, pred = out.max(dim=1)\r\n",
        "        acc += int(pred.eq(batch.y).sum().item())\r\n",
        "    train_acc.append(acc/len(train_set))\r\n",
        "    \r\n",
        "    model.eval()\r\n",
        "    acc = 0\r\n",
        "    for batch in test_loader:\r\n",
        "        batch.to(device)\r\n",
        "        out = model(batch)\r\n",
        "        _, pred = out.max(dim=1)\r\n",
        "        acc += int(pred.eq(batch.y).sum().item())\r\n",
        "    val_acc.append(acc/len(val_set))\r\n",
        "\r\n",
        "    print(f'epoch [{epoch}]\\t train acc {train_acc[-1]}\\t val acc {val_acc[-1]}')"
      ],
      "execution_count": 6,
      "outputs": [
        {
          "output_type": "stream",
          "text": [
            "epoch [0]\t train acc 0.15\t val acc 0.15\n",
            "epoch [1]\t train acc 0.1527777777777778\t val acc 0.16666666666666666\n",
            "epoch [2]\t train acc 0.16111111111111112\t val acc 0.14166666666666666\n",
            "epoch [3]\t train acc 0.17777777777777778\t val acc 0.10833333333333334\n",
            "epoch [4]\t train acc 0.1527777777777778\t val acc 0.13333333333333333\n",
            "epoch [5]\t train acc 0.15555555555555556\t val acc 0.125\n",
            "epoch [6]\t train acc 0.15555555555555556\t val acc 0.175\n",
            "epoch [7]\t train acc 0.1527777777777778\t val acc 0.19166666666666668\n",
            "epoch [8]\t train acc 0.12777777777777777\t val acc 0.13333333333333333\n",
            "epoch [9]\t train acc 0.14166666666666666\t val acc 0.125\n",
            "epoch [10]\t train acc 0.175\t val acc 0.16666666666666666\n",
            "epoch [11]\t train acc 0.16666666666666666\t val acc 0.13333333333333333\n",
            "epoch [12]\t train acc 0.1527777777777778\t val acc 0.14166666666666666\n",
            "epoch [13]\t train acc 0.14166666666666666\t val acc 0.16666666666666666\n",
            "epoch [14]\t train acc 0.1638888888888889\t val acc 0.13333333333333333\n",
            "epoch [15]\t train acc 0.16944444444444445\t val acc 0.18333333333333332\n",
            "epoch [16]\t train acc 0.1388888888888889\t val acc 0.175\n",
            "epoch [17]\t train acc 0.14722222222222223\t val acc 0.175\n",
            "epoch [18]\t train acc 0.13055555555555556\t val acc 0.125\n",
            "epoch [19]\t train acc 0.13055555555555556\t val acc 0.15\n"
          ],
          "name": "stdout"
        }
      ]
    },
    {
      "cell_type": "code",
      "metadata": {
        "colab": {
          "base_uri": "https://localhost:8080/",
          "height": 265
        },
        "id": "wJK60etwCFSv",
        "outputId": "99cab4f9-4a34-43a1-c1d6-c7bcbb3e1ffd"
      },
      "source": [
        "plt.plot(range(1,epochs+1),val_acc,train_acc)\r\n",
        "plt.show()"
      ],
      "execution_count": 7,
      "outputs": [
        {
          "output_type": "display_data",
          "data": {
            "image/png": "[encoded data removed]",
            "text/plain": [
              "<Figure size 432x288 with 1 Axes>"
            ]
          },
          "metadata": {
            "tags": [],
            "needs_background": "light"
          }
        }
      ]
    }
  ]
}