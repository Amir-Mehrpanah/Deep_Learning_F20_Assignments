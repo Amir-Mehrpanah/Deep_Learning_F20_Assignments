{
  "nbformat": 4,
  "nbformat_minor": 0,
  "metadata": {
    "kernelspec": {
      "name": "python3",
      "display_name": "Python 3",
      "language": "python"
    },
    "language_info": {
      "name": "python",
      "version": "3.7.6",
      "mimetype": "text/x-python",
      "codemirror_mode": {
        "name": "ipython",
        "version": 3
      },
      "pygments_lexer": "ipython3",
      "nbconvert_exporter": "python",
      "file_extension": ".py"
    },
    "colab": {
      "name": "sentiment-pytorch.ipynb",
      "provenance": []
    }
  },
  "cells": [
    {
      "cell_type": "markdown",
      "metadata": {
        "id": "2t1COHtGUdhd"
      },
      "source": [
        "# Assignment Set 11\r\n",
        "\r\n",
        "by **Amir Mehrpanah** for Deep Learing Course at Data Science Center, SBU"
      ]
    },
    {
      "cell_type": "code",
      "metadata": {
        "_uuid": "d629ff2d2480ee46fbb7e2d37f6b5fab8052498a",
        "_cell_guid": "79c7e3d0-c299-4dcb-8224-4455121ee9b0",
        "trusted": true,
        "id": "m7Mmk3kSUZ_L",
        "outputId": "a7e47160-bb76-4eb3-889f-be0670b7e389"
      },
      "source": [
        "%ls ../input/emotions-dataset-for-nlp/\n",
        "%mkdir data/"
      ],
      "execution_count": null,
      "outputs": [
        {
          "output_type": "stream",
          "text": [
            "test.txt  train.txt  val.txt\r\n"
          ],
          "name": "stdout"
        }
      ]
    },
    {
      "cell_type": "code",
      "metadata": {
        "trusted": true,
        "id": "qIHm62TAUZ_N"
      },
      "source": [
        "df_train = pd.read_csv('../input/emotions-dataset-for-nlp/train.txt', header =None, sep =';', names = ['Input','Sentiment'], encoding='utf-8')\n",
        "df_test = pd.read_csv('../input/emotions-dataset-for-nlp/test.txt', header = None, sep =';', names = ['Input','Sentiment'],encoding='utf-8')\n",
        "df_val=pd.read_csv('../input/emotions-dataset-for-nlp/val.txt',header=None,sep=';',names=['Input','Sentiment'],encoding='utf-8')\n",
        "\n",
        "df_train.to_csv('data/train.csv',index=False)\n",
        "df_test.to_csv('data/test.csv',index=False)\n",
        "df_val.to_csv('data/val.csv',index=False)"
      ],
      "execution_count": null,
      "outputs": []
    },
    {
      "cell_type": "code",
      "metadata": {
        "trusted": true,
        "id": "10zKH2xMUZ_O"
      },
      "source": [
        "def clean_text(texts):\n",
        "    cleaned_text = []\n",
        "    for text in texts:\n",
        "        text = re.sub('[!#?,.:\";]', ' ', text)\n",
        "        text = re.sub(r' +', ' ', text)\n",
        "        text = re.sub(r'\\n', ' ', text)\n",
        "        cleaned_text.append(text)\n",
        "    return cleaned_text\n",
        "    \n",
        "def accuracy(probs, target):\n",
        "    winners = probs.argmax(dim=1)\n",
        "    corrects = (winners == target)\n",
        "    accuracy = corrects.sum().float() / float(target.size(0))\n",
        "    return accuracy "
      ],
      "execution_count": null,
      "outputs": []
    },
    {
      "cell_type": "code",
      "metadata": {
        "trusted": true,
        "id": "L7fUIo2mUZ_O"
      },
      "source": [
        "def train(model, iterator, optimizer, loss_fn):\n",
        "    epoch_loss = 0\n",
        "    epoch_acc = 0\n",
        "    model.train()\n",
        "    for batch in iterator:\n",
        "        optimizer.zero_grad()\n",
        "        text, text_lengths = batch.text\n",
        "        text_lengths = text_lengths.to('cpu')\n",
        "        predictions = model(text, text_lengths)\n",
        "        loss = loss_fn(predictions, batch.sentiment.squeeze())\n",
        "        acc = accuracy(predictions, batch.sentiment)\n",
        "        loss.backward()\n",
        "        optimizer.step()\n",
        "        epoch_loss += loss.item()\n",
        "        epoch_acc += acc.item()\n",
        "\n",
        "    return epoch_loss / len(iterator), epoch_acc / len(iterator)\n",
        "\n",
        "def evaluate(model, iterator, loss_fn):\n",
        "    epoch_loss = 0\n",
        "    epoch_acc = 0\n",
        "    model.eval()\n",
        "    with torch.no_grad():\n",
        "        for batch in iterator:\n",
        "            text, text_lengths = batch.text\n",
        "            text_lengths = text_lengths.to('cpu')\n",
        "            predictions = model(text, text_lengths).squeeze(1)\n",
        "            loss = loss_fn(predictions, batch.sentiment)\n",
        "            acc = accuracy(predictions, batch.sentiment)\n",
        "            epoch_loss += loss.item()\n",
        "            epoch_acc += acc.item()\n",
        "\n",
        "    return epoch_loss / len(iterator), epoch_acc / len(iterator)"
      ],
      "execution_count": null,
      "outputs": []
    },
    {
      "cell_type": "code",
      "metadata": {
        "trusted": true,
        "id": "qhcSQ0MOUZ_R",
        "outputId": "c7b93f1e-a4ce-4a05-b5cf-5826a567ce95"
      },
      "source": [
        "maxlen = 90\n",
        "batch_size = 32\n",
        "numwords = 1024\n",
        "lr = 1e-4\n",
        "num_epochs = 10\n",
        "\n",
        "Text = data.Field(preprocessing=clean_text, tokenize=lambda x:x.split(), batch_first=True, include_lengths=True, fix_length=300)\n",
        "Sentiment = data.Field(sequential=False, use_vocab=True, pad_token=None, unk_token=None)\n",
        "\n",
        "fields = [('text', Text), ('sentiment', Sentiment)]\n",
        "\n",
        "train_data,val_data, test_data = data.TabularDataset.splits(\n",
        "    path='data/',\n",
        "    train= 'train.csv',\n",
        "    validation = 'val.csv',\n",
        "    test= 'test.csv',\n",
        "    format='csv',\n",
        "    fields=fields,\n",
        "    skip_header=True\n",
        "    )\n",
        "[len(d.examples) for d in [train_data,val_data,test_data]]\n",
        "\n",
        "Text.build_vocab(train_data, max_size=numwords)\n",
        "Sentiment.build_vocab(train_data)\n",
        "vocab_size = len(Text.vocab)\n",
        "print(vocab_size)\n",
        "print(len(Sentiment.vocab))"
      ],
      "execution_count": null,
      "outputs": [
        {
          "output_type": "stream",
          "text": [
            "1026\n",
            "6\n"
          ],
          "name": "stdout"
        }
      ]
    },
    {
      "cell_type": "code",
      "metadata": {
        "trusted": true,
        "id": "TBBidHXtUZ_R"
      },
      "source": [
        "# model 1\n",
        "class LSTM1(nn.Module):\n",
        "    def __init__(self, vocab_size, pad_index):\n",
        "        super().__init__()\n",
        "        self.embedding = nn.Embedding(vocab_size, 1024, padding_idx = pad_index)\n",
        "        self.lstm = nn.LSTM(1024,\n",
        "                            128,\n",
        "                            num_layers=2,\n",
        "                            bidirectional=False,\n",
        "                            batch_first=True)\n",
        "        self.fc1 = nn.Linear(256, 64)\n",
        "        self.fc2 = nn.Linear(64, 6)\n",
        "        self.relu = nn.ReLU()\n",
        "        self.dropout = nn.Dropout(.3)\n",
        "\n",
        "    def forward(self, text, text_lengths):\n",
        "        embedded = self.embedding(text)\n",
        "        packed_embedded = pack_padded_sequence(embedded, text_lengths, batch_first=True) \n",
        "\n",
        "        packed_output, (hidden, cell) = self.lstm(packed_embedded)\n",
        "        cat = torch.cat((hidden[-2, :, :], hidden[-1, :, :]), dim=1)\n",
        "        rel = self.relu(cat)\n",
        "        dense1 = self.fc1(rel)\n",
        "        drop = self.dropout(dense1)\n",
        "        preds = self.fc2(drop)\n",
        "        return preds\n",
        "\n",
        "# model 2\n",
        "class LSTM2(nn.Module):\n",
        "    def __init__(self, vocab_size, pad_index):\n",
        "        super().__init__()\n",
        "        self.embedding = nn.Embedding(vocab_size, 2048, padding_idx = pad_index)\n",
        "        self.lstm = nn.LSTM(2048,\n",
        "                            512,\n",
        "                            num_layers=2,\n",
        "                            bidirectional=True,\n",
        "                            batch_first=True)\n",
        "        self.fc1 = nn.Linear(1024, 512)\n",
        "        self.fc2 = nn.Linear(512, 6)\n",
        "        self.relu = nn.ReLU()\n",
        "        self.dropout = nn.Dropout(.3)\n",
        "\n",
        "    def forward(self, text, text_lengths):\n",
        "        embedded = self.embedding(text)\n",
        "        packed_embedded = pack_padded_sequence(embedded, text_lengths, batch_first=True) \n",
        "\n",
        "        packed_output, (hidden, cell) = self.lstm(packed_embedded)\n",
        "        cat = torch.cat((hidden[-2, :, :], hidden[-1, :, :]), dim=1)\n",
        "        rel = self.relu(cat)\n",
        "        dense1 = self.fc1(rel)\n",
        "        drop = self.dropout(dense1)\n",
        "        preds = self.fc2(drop)\n",
        "        return preds"
      ],
      "execution_count": null,
      "outputs": []
    },
    {
      "cell_type": "code",
      "metadata": {
        "trusted": true,
        "id": "hljm3UlrUZ_S",
        "outputId": "04be6763-8b8b-44c9-da8a-9d09fd80b198"
      },
      "source": [
        "device = torch.device('cuda' if torch.cuda.is_available() else 'cpu') \n",
        "print(device)\n",
        "train_iterator, val_iterator, test_iterator = BucketIterator.splits((train_data, val_data, test_data),\n",
        "        batch_size = batch_size,\n",
        "        sort_key = lambda x: len(x.text),\n",
        "        sort_within_batch = True,\n",
        "        device = device)\n",
        "\n",
        "pad_index = Text.vocab.stoi[Text.pad_token]\n",
        "loss_func = nn.CrossEntropyLoss()\n",
        "\n",
        "mdl_pool = {'lstm1':\n",
        "            {'mdl':LSTM1(vocab_size,pad_index),\n",
        "             'val_acc':[],\n",
        "             'train_acc':[]},\n",
        "            'lstm2':\n",
        "            {'mdl':LSTM2(vocab_size,pad_index),\n",
        "             'val_acc':[],\n",
        "             'train_acc':[]}}\n",
        "\n",
        "for name,item in mdl_pool.items():\n",
        "    model = item['mdl'] \n",
        "    print(name)\n",
        "    model.to(device)\n",
        "    optimizer = torch.optim.Adam(model.parameters(), lr=lr)\n",
        "    for epoch in range(num_epochs):\n",
        "        train_loss, train_acc = train(model, train_iterator, optimizer, loss_func)\n",
        "        val_loss, val_acc = evaluate(model, val_iterator, loss_func)\n",
        "        item['val_acc'].append(val_acc)\n",
        "        item['train_acc'].append(train_acc)\n",
        "        print(f'   Train Loss: {train_loss:.3f} \\t| Train Acc: {train_acc * 100:.2f}%')\n",
        "        print(f'   Val Loss: {val_loss:.3f} \\t| Val Acc: {val_acc * 100:.2f}%')"
      ],
      "execution_count": null,
      "outputs": [
        {
          "output_type": "stream",
          "text": [
            "cuda\n",
            "lstm1\n",
            "   Train Loss: 1.598 \t| Train Acc: 34.92%\n",
            "   Val Loss: 1.549 \t| Val Acc: 38.94%\n",
            "   Train Loss: 1.414 \t| Train Acc: 44.70%\n",
            "   Val Loss: 1.217 \t| Val Acc: 56.10%\n",
            "   Train Loss: 0.987 \t| Train Acc: 63.91%\n",
            "   Val Loss: 0.908 \t| Val Acc: 66.47%\n",
            "   Train Loss: 0.770 \t| Train Acc: 71.34%\n",
            "   Val Loss: 0.802 \t| Val Acc: 69.74%\n",
            "   Train Loss: 0.673 \t| Train Acc: 74.83%\n",
            "   Val Loss: 0.769 \t| Val Acc: 71.03%\n",
            "   Train Loss: 0.573 \t| Train Acc: 78.49%\n",
            "   Val Loss: 0.721 \t| Val Acc: 73.86%\n",
            "   Train Loss: 0.506 \t| Train Acc: 81.12%\n",
            "   Val Loss: 0.695 \t| Val Acc: 75.60%\n",
            "   Train Loss: 0.423 \t| Train Acc: 84.09%\n",
            "   Val Loss: 0.651 \t| Val Acc: 77.03%\n",
            "   Train Loss: 0.356 \t| Train Acc: 86.92%\n",
            "   Val Loss: 0.653 \t| Val Acc: 79.41%\n",
            "   Train Loss: 0.292 \t| Train Acc: 90.03%\n",
            "   Val Loss: 0.621 \t| Val Acc: 81.40%\n",
            "lstm2\n",
            "   Train Loss: 1.185 \t| Train Acc: 55.17%\n",
            "   Val Loss: 0.723 \t| Val Acc: 74.75%\n",
            "   Train Loss: 0.436 \t| Train Acc: 84.75%\n",
            "   Val Loss: 0.411 \t| Val Acc: 84.82%\n",
            "   Train Loss: 0.267 \t| Train Acc: 90.33%\n",
            "   Val Loss: 0.406 \t| Val Acc: 85.81%\n",
            "   Train Loss: 0.192 \t| Train Acc: 92.83%\n",
            "   Val Loss: 0.453 \t| Val Acc: 85.91%\n",
            "   Train Loss: 0.143 \t| Train Acc: 94.66%\n",
            "   Val Loss: 0.480 \t| Val Acc: 85.62%\n",
            "   Train Loss: 0.109 \t| Train Acc: 96.26%\n",
            "   Val Loss: 0.488 \t| Val Acc: 86.11%\n",
            "   Train Loss: 0.072 \t| Train Acc: 97.52%\n",
            "   Val Loss: 0.516 \t| Val Acc: 87.35%\n",
            "   Train Loss: 0.060 \t| Train Acc: 98.06%\n",
            "   Val Loss: 0.568 \t| Val Acc: 86.71%\n",
            "   Train Loss: 0.050 \t| Train Acc: 98.26%\n",
            "   Val Loss: 0.578 \t| Val Acc: 84.92%\n",
            "   Train Loss: 0.038 \t| Train Acc: 98.76%\n",
            "   Val Loss: 0.657 \t| Val Acc: 85.47%\n"
          ],
          "name": "stdout"
        }
      ]
    },
    {
      "cell_type": "code",
      "metadata": {
        "trusted": true,
        "id": "mRmin5YFUZ_T",
        "outputId": "56f198da-2642-4b08-c4e9-c12dbe4910fe"
      },
      "source": [
        "colors = \n",
        "for name,item in mdl_pool.items():\n",
        "    plt.plot(item['val_acc'],label=name+'val_acc')\n",
        "    plt.plot(item['train_acc'],label=name+'train_acc')\n",
        "plt.legend()"
      ],
      "execution_count": null,
      "outputs": [
        {
          "output_type": "execute_result",
          "data": {
            "text/plain": [
              "<matplotlib.legend.Legend at 0x7f7d9a7f2690>"
            ]
          },
          "metadata": {
            "tags": []
          },
          "execution_count": 19
        },
        {
          "output_type": "display_data",
          "data": {
            "text/plain": [
              "<Figure size 432x288 with 1 Axes>"
            ],
            "image/png": "[encoded data removed]"
          },
          "metadata": {
            "tags": [],
            "needs_background": "light"
          }
        }
      ]
    }
  ]
}