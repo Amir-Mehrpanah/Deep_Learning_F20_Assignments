{
  "nbformat": 4,
  "nbformat_minor": 0,
  "metadata": {
    "kernelspec": {
      "name": "python3",
      "display_name": "Python 3",
      "language": "python"
    },
    "language_info": {
      "name": "python",
      "version": "3.7.6",
      "mimetype": "text/x-python",
      "codemirror_mode": {
        "name": "ipython",
        "version": 3
      },
      "pygments_lexer": "ipython3",
      "nbconvert_exporter": "python",
      "file_extension": ".py"
    },
    "colab": {
      "name": "doc-classification.ipynb",
      "provenance": []
    }
  },
  "cells": [
    {
      "cell_type": "markdown",
      "metadata": {
        "id": "TZpu4IfZtbUs"
      },
      "source": [
        "# Assignment Set 11\r\n",
        "\r\n",
        "by **Amir Mehrpanah** for Deep Learing Course at Data Science Center, SBU"
      ]
    },
    {
      "cell_type": "code",
      "metadata": {
        "_uuid": "d629ff2d2480ee46fbb7e2d37f6b5fab8052498a",
        "_cell_guid": "79c7e3d0-c299-4dcb-8224-4455121ee9b0",
        "trusted": true,
        "id": "dNh12m4-tZje",
        "outputId": "cf296fb4-5a36-4863-9d65-85fbdb2399f1"
      },
      "source": [
        "%ls ../input/document-classification/\n",
        "%mkdir data/"
      ],
      "execution_count": null,
      "outputs": [
        {
          "output_type": "stream",
          "text": [
            "file.txt\r\n"
          ],
          "name": "stdout"
        }
      ]
    },
    {
      "cell_type": "code",
      "metadata": {
        "trusted": true,
        "id": "zQgKHXKQtZjg"
      },
      "source": [
        "raw_data = pd.read_csv('../input/document-classification/file.txt')\n",
        "raw_data['class'] = raw_data.applymap(lambda x: int(x[0]))\n",
        "raw_data.columns = ('text', 'class')\n",
        "raw_data['text'] = raw_data['text'].apply(lambda x: x[1:])\n",
        "test_size = int(raw_data.shape[0]*0.2)\n",
        "raw_data.iloc[0:test_size,:].to_csv('data/val.csv',index=False)\n",
        "raw_data.iloc[test_size:test_size*2,:].to_csv('data/test.csv',index=False)\n",
        "raw_data.iloc[test_size*2:,:].to_csv('data/train.csv',index=False)"
      ],
      "execution_count": null,
      "outputs": []
    },
    {
      "cell_type": "code",
      "metadata": {
        "trusted": true,
        "id": "F0Dvw5wltZjg",
        "outputId": "85bf5cf3-1b72-4cb6-be87-7f932609eac2"
      },
      "source": [
        "raw_data['class'].value_counts()"
      ],
      "execution_count": null,
      "outputs": [
        {
          "output_type": "execute_result",
          "data": {
            "text/plain": [
              "1    2840\n",
              "2    1596\n",
              "6     253\n",
              "3     251\n",
              "8     206\n",
              "7     190\n",
              "4     108\n",
              "5      41\n",
              "Name: class, dtype: int64"
            ]
          },
          "metadata": {
            "tags": []
          },
          "execution_count": 4
        }
      ]
    },
    {
      "cell_type": "code",
      "metadata": {
        "trusted": true,
        "id": "zDdnLaXctZjh"
      },
      "source": [
        "def accuracy(probs, target):\n",
        "    winners = probs.argmax(dim=1)\n",
        "    corrects = (winners == target)\n",
        "    accuracy = corrects.sum().float() / float(target.size(0))\n",
        "    return accuracy "
      ],
      "execution_count": null,
      "outputs": []
    },
    {
      "cell_type": "code",
      "metadata": {
        "trusted": true,
        "id": "C9ZHMTjUtZji"
      },
      "source": [
        "def train(model, iterator, optimizer, loss_fn):\n",
        "    epoch_loss = 0\n",
        "    epoch_acc = 0\n",
        "    model.train()\n",
        "    for batch in iterator:\n",
        "        optimizer.zero_grad()\n",
        "        text, text_lengths = batch.text\n",
        "        text_lengths = text_lengths.to('cpu')\n",
        "        predictions = model(text, text_lengths)\n",
        "        loss = loss_fn(predictions, batch.sentiment.squeeze())\n",
        "        acc = accuracy(predictions, batch.sentiment)\n",
        "        loss.backward()\n",
        "        optimizer.step()\n",
        "        epoch_loss += loss.item()\n",
        "        epoch_acc += acc.item()\n",
        "\n",
        "    return epoch_loss / len(iterator), epoch_acc / len(iterator)\n",
        "\n",
        "def evaluate(model, iterator, loss_fn):\n",
        "    epoch_loss = 0\n",
        "    epoch_acc = 0\n",
        "    model.eval()\n",
        "    with torch.no_grad():\n",
        "        for batch in iterator:\n",
        "            text, text_lengths = batch.text\n",
        "            text_lengths = text_lengths.to('cpu')\n",
        "            predictions = model(text, text_lengths).squeeze(1)\n",
        "            loss = loss_fn(predictions, batch.sentiment)\n",
        "            acc = accuracy(predictions, batch.sentiment)\n",
        "            epoch_loss += loss.item()\n",
        "            epoch_acc += acc.item()\n",
        "\n",
        "    return epoch_loss / len(iterator), epoch_acc / len(iterator)"
      ],
      "execution_count": null,
      "outputs": []
    },
    {
      "cell_type": "code",
      "metadata": {
        "trusted": true,
        "id": "2pSpM2SBtZjk",
        "outputId": "c0ca9884-3f37-4fdf-b801-17836450dde0"
      },
      "source": [
        "maxlen = 90\n",
        "batch_size = 32\n",
        "numwords = 512\n",
        "lr = 1e-4\n",
        "num_epochs = 10\n",
        "\n",
        "Text = data.Field(tokenize=lambda x:x.split(), batch_first=True, include_lengths=True, fix_length=500)\n",
        "Sentiment = data.Field(sequential=False, use_vocab=True, pad_token=None, unk_token=None)\n",
        "\n",
        "fields = [('text', Text), ('sentiment', Sentiment)]\n",
        "\n",
        "train_data,val_data, test_data = data.TabularDataset.splits(\n",
        "    path='data/',\n",
        "    train= 'train.csv',\n",
        "    validation = 'val.csv',\n",
        "    test= 'test.csv',\n",
        "    format='csv',\n",
        "    fields=fields,\n",
        "    skip_header=True\n",
        "    )\n",
        "[len(d.examples) for d in [train_data,val_data,test_data]]\n",
        "\n",
        "Text.build_vocab(train_data, max_size=numwords)\n",
        "Sentiment.build_vocab(train_data)\n",
        "vocab_size = len(Text.vocab)\n",
        "print(vocab_size)\n",
        "print(len(Sentiment.vocab))"
      ],
      "execution_count": null,
      "outputs": [
        {
          "output_type": "stream",
          "text": [
            "514\n",
            "8\n"
          ],
          "name": "stdout"
        }
      ]
    },
    {
      "cell_type": "code",
      "metadata": {
        "trusted": true,
        "id": "dbBKJUWztZjl"
      },
      "source": [
        "# model 1\n",
        "class LSTM1(nn.Module):\n",
        "    def __init__(self, vocab_size, pad_index):\n",
        "        super().__init__()\n",
        "        self.embedding = nn.Embedding(vocab_size, 1024, padding_idx = pad_index)\n",
        "        self.lstm = nn.LSTM(1024,\n",
        "                            256,\n",
        "                            num_layers=2,\n",
        "                            bidirectional=True,\n",
        "                            batch_first=True)\n",
        "        self.fc1 = nn.Linear(512, 128)\n",
        "        self.fc2 = nn.Linear(128, 8)\n",
        "        self.relu = nn.ReLU()\n",
        "        self.dropout = nn.Dropout(.5)\n",
        "\n",
        "    def forward(self, text, text_lengths):\n",
        "        embedded = self.embedding(text)\n",
        "        packed_embedded = pack_padded_sequence(embedded, text_lengths, batch_first=True) \n",
        "\n",
        "        packed_output, (hidden, cell) = self.lstm(packed_embedded)\n",
        "        cat = torch.cat((hidden[-2, :, :], hidden[-1, :, :]), dim=1)\n",
        "        rel = self.relu(cat)\n",
        "        dense1 = self.fc1(rel)\n",
        "        drop = self.dropout(dense1)\n",
        "        preds = self.fc2(drop)\n",
        "        return preds\n",
        "\n",
        "# model 2\n",
        "class LSTM2(nn.Module):\n",
        "    def __init__(self, vocab_size, pad_index):\n",
        "        super().__init__()\n",
        "        self.embedding = nn.Embedding(vocab_size, 1024, padding_idx = pad_index)\n",
        "        self.lstm = nn.LSTM(1024,\n",
        "                            256,\n",
        "                            num_layers=3,\n",
        "                            bidirectional=False,\n",
        "                            batch_first=True)\n",
        "        self.fc1 = nn.Linear(512, 128)\n",
        "        self.fc2 = nn.Linear(128, 8)\n",
        "        self.relu = nn.ReLU()\n",
        "        self.dropout = nn.Dropout(.5)\n",
        "\n",
        "    def forward(self, text, text_lengths):\n",
        "        embedded = self.embedding(text)\n",
        "        packed_embedded = pack_padded_sequence(embedded, text_lengths, batch_first=True) \n",
        "\n",
        "        packed_output, (hidden, cell) = self.lstm(packed_embedded)\n",
        "        cat = torch.cat((hidden[-2, :, :], hidden[-1, :, :]), dim=1)\n",
        "        rel = self.relu(cat)\n",
        "        dense1 = self.fc1(rel)\n",
        "        drop = self.dropout(dense1)\n",
        "        preds = self.fc2(drop)\n",
        "        return preds"
      ],
      "execution_count": null,
      "outputs": []
    },
    {
      "cell_type": "code",
      "metadata": {
        "trusted": true,
        "id": "PrdBzp__tZjl",
        "outputId": "945b5f69-ac0d-4f5c-8dea-a7eafcd8bc10"
      },
      "source": [
        "device = torch.device('cuda' if torch.cuda.is_available() else 'cpu') \n",
        "print(device)\n",
        "train_iterator, val_iterator, test_iterator = BucketIterator.splits((train_data, val_data, test_data),\n",
        "        batch_size = batch_size,\n",
        "        sort_key = lambda x: len(x.text),\n",
        "        sort_within_batch = True,\n",
        "        device = device)\n",
        "\n",
        "pad_index = Text.vocab.stoi[Text.pad_token]\n",
        "loss_func = nn.CrossEntropyLoss()\n",
        "\n",
        "mdl_pool = {'lstm1':\n",
        "            {'mdl':LSTM1(vocab_size,pad_index),\n",
        "             'val_acc':[],\n",
        "             'train_acc':[],\n",
        "             'test_acc':[]},\n",
        "            'lstm2':\n",
        "            {'mdl':LSTM2(vocab_size,pad_index),\n",
        "             'val_acc':[],\n",
        "             'train_acc':[],\n",
        "             'test_acc':[]}}\n",
        "\n",
        "for name,item in mdl_pool.items():\n",
        "    model = item['mdl'] \n",
        "    print(name)\n",
        "    model.to(device)\n",
        "    optimizer = torch.optim.Adam(model.parameters(), lr=lr)\n",
        "    for epoch in range(num_epochs):\n",
        "        train_loss, train_acc = train(model, train_iterator, optimizer, loss_func)\n",
        "        val_loss, val_acc = evaluate(model, val_iterator, loss_func)\n",
        "        item['val_acc'].append(val_acc)\n",
        "        item['train_acc'].append(train_acc)\n",
        "        print(f'   Train Loss: {train_loss:.3f} \\t| Train Acc: {train_acc * 100:.2f}%')\n",
        "        print(f'   Val Loss: {val_loss:.3f} \\t| Val Acc: {val_acc * 100:.2f}%')\n",
        "    test_loss, test_acc = evaluate(model, test_iterator, loss_func)\n",
        "    item['test_acc'] = (num_epochs+1,test_acc)"
      ],
      "execution_count": null,
      "outputs": [
        {
          "output_type": "stream",
          "text": [
            "cuda\n",
            "lstm1\n",
            "   Train Loss: 1.356 \t| Train Acc: 55.58%\n",
            "   Val Loss: 0.737 \t| Val Acc: 76.80%\n",
            "   Train Loss: 0.800 \t| Train Acc: 73.83%\n",
            "   Val Loss: 0.581 \t| Val Acc: 80.72%\n",
            "   Train Loss: 0.614 \t| Train Acc: 78.73%\n",
            "   Val Loss: 0.507 \t| Val Acc: 81.58%\n",
            "   Train Loss: 0.511 \t| Train Acc: 83.06%\n",
            "   Val Loss: 0.396 \t| Val Acc: 85.02%\n",
            "   Train Loss: 0.429 \t| Train Acc: 85.44%\n",
            "   Val Loss: 0.384 \t| Val Acc: 86.27%\n",
            "   Train Loss: 0.374 \t| Train Acc: 87.15%\n",
            "   Val Loss: 0.340 \t| Val Acc: 88.02%\n",
            "   Train Loss: 0.419 \t| Train Acc: 85.99%\n",
            "   Val Loss: 0.318 \t| Val Acc: 90.03%\n",
            "   Train Loss: 0.285 \t| Train Acc: 91.64%\n",
            "   Val Loss: 0.329 \t| Val Acc: 89.71%\n",
            "   Train Loss: 0.224 \t| Train Acc: 92.73%\n",
            "   Val Loss: 0.267 \t| Val Acc: 91.90%\n",
            "   Train Loss: 0.178 \t| Train Acc: 94.98%\n",
            "   Val Loss: 0.286 \t| Val Acc: 92.35%\n",
            "lstm2\n",
            "   Train Loss: 1.511 \t| Train Acc: 48.76%\n",
            "   Val Loss: 0.890 \t| Val Acc: 68.58%\n",
            "   Train Loss: 0.900 \t| Train Acc: 71.69%\n",
            "   Val Loss: 0.693 \t| Val Acc: 79.03%\n",
            "   Train Loss: 0.762 \t| Train Acc: 75.52%\n",
            "   Val Loss: 0.568 \t| Val Acc: 81.89%\n",
            "   Train Loss: 0.671 \t| Train Acc: 77.84%\n",
            "   Val Loss: 0.595 \t| Val Acc: 79.74%\n",
            "   Train Loss: 0.637 \t| Train Acc: 77.81%\n",
            "   Val Loss: 0.565 \t| Val Acc: 78.94%\n",
            "   Train Loss: 0.573 \t| Train Acc: 80.13%\n",
            "   Val Loss: 0.504 \t| Val Acc: 81.36%\n",
            "   Train Loss: 0.789 \t| Train Acc: 70.75%\n",
            "   Val Loss: 0.648 \t| Val Acc: 76.62%\n",
            "   Train Loss: 0.622 \t| Train Acc: 77.26%\n",
            "   Val Loss: 0.522 \t| Val Acc: 81.08%\n",
            "   Train Loss: 0.522 \t| Train Acc: 81.26%\n",
            "   Val Loss: 0.486 \t| Val Acc: 82.56%\n",
            "   Train Loss: 0.528 \t| Train Acc: 81.33%\n",
            "   Val Loss: 0.477 \t| Val Acc: 83.05%\n"
          ],
          "name": "stdout"
        }
      ]
    },
    {
      "cell_type": "code",
      "metadata": {
        "trusted": true,
        "id": "2sLJjP9QtZjn",
        "outputId": "1dcc7ced-81d4-45a5-c865-379f5eb2b1f2"
      },
      "source": [
        "color = ['r','b']\n",
        "for i,(name,item) in enumerate(mdl_pool.items()):\n",
        "    plt.plot(item['val_acc'],label=name+'val_acc',c=color[i],linestyle=':')\n",
        "    plt.plot(item['train_acc'],label=name+'train_acc',c=color[i])\n",
        "    plt.scatter(item['test_acc'][0]-1.5,item['test_acc'][1],c=color[i],label='test_acc')\n",
        "plt.legend()"
      ],
      "execution_count": null,
      "outputs": [
        {
          "output_type": "execute_result",
          "data": {
            "text/plain": [
              "<matplotlib.legend.Legend at 0x7f5224788890>"
            ]
          },
          "metadata": {
            "tags": []
          },
          "execution_count": 39
        },
        {
          "output_type": "display_data",
          "data": {
            "text/plain": [
              "<Figure size 432x288 with 1 Axes>"
            ],
            "image/png": "[encoded data removed]"
          },
          "metadata": {
            "tags": [],
            "needs_background": "light"
          }
        }
      ]
    }
  ]
}