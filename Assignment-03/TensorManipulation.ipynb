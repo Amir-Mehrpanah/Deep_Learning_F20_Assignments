{
  "nbformat": 4,
  "nbformat_minor": 0,
  "metadata": {
    "colab": {
      "name": "TensorManipulation.ipynb",
      "provenance": [],
      "authorship_tag": "ABX9TyN6RGrx9CCmF6nhYbRbSfmq"
    },
    "kernelspec": {
      "name": "python3",
      "display_name": "Python 3"
    },
    "accelerator": "GPU"
  },
  "cells": [
    {
      "cell_type": "markdown",
      "metadata": {
        "id": "Y_sPb8IMZeqz",
        "colab_type": "text"
      },
      "source": [
        "\n",
        "#Assignment Set 3\n",
        "\n",
        "by **Amir Mehrpanah** for Deep Learing Course at Data Science Center, SBU\n",
        "\n"
      ]
    },
    {
      "cell_type": "code",
      "metadata": {
        "id": "QixOgGCjfq9U",
        "colab_type": "code",
        "colab": {}
      },
      "source": [
        "import torch\n",
        "import h5py\n",
        "import numpy as np"
      ],
      "execution_count": 2,
      "outputs": []
    },
    {
      "cell_type": "markdown",
      "metadata": {
        "id": "X7v4yYubzvPW",
        "colab_type": "text"
      },
      "source": [
        "## creating tensors in the gpu"
      ]
    },
    {
      "cell_type": "code",
      "metadata": {
        "id": "DBExfLHQZLq9",
        "colab_type": "code",
        "colab": {}
      },
      "source": [
        "f3by3 = torch.rand(3, 3, dtype=torch.float,device=torch.device('cuda'))\n",
        "d4by4 = torch.rand(4, 4, dtype=torch.double,device=torch.device('cuda'))\n",
        "s5by3by4 = torch.randint(0,255,(5, 3, 4), dtype=torch.int, device=torch.device('cuda'))"
      ],
      "execution_count": null,
      "outputs": []
    },
    {
      "cell_type": "markdown",
      "metadata": {
        "id": "pLaJLmFzzyxd",
        "colab_type": "text"
      },
      "source": [
        "## changing their elements"
      ]
    },
    {
      "cell_type": "code",
      "metadata": {
        "id": "SIDvm4FGd074",
        "colab_type": "code",
        "colab": {}
      },
      "source": [
        "f3by3 = -f3by3.log10()\n",
        "d4by4 = d4by4.sqrt()\n",
        "s5by3by4 = s5by3by4 * 2"
      ],
      "execution_count": null,
      "outputs": []
    },
    {
      "cell_type": "markdown",
      "metadata": {
        "id": "sINlcpCk4j2B",
        "colab_type": "text"
      },
      "source": [
        "## storage"
      ]
    },
    {
      "cell_type": "code",
      "metadata": {
        "id": "g_EclhfA4jaU",
        "colab_type": "code",
        "colab": {
          "base_uri": "https://localhost:8080/",
          "height": 225
        },
        "outputId": "417ad215-b5ce-470c-a54f-434833b53792"
      },
      "source": [
        "f3by3t = f3by3.transpose(0,1)\n",
        "s1 = f3by3.storage()\n",
        "s2 = f3by3t.storage()\n",
        "tensor_diff(s1,s2)"
      ],
      "execution_count": null,
      "outputs": [
        {
          "output_type": "stream",
          "text": [
            "original\t \t tanspose\n",
            "---------------------------------------------\n",
            "1.42388916015625 \t 1.42388916015625\n",
            "0.18389947712421417 \t 0.18389947712421417\n",
            "0.2931171953678131 \t 0.2931171953678131\n",
            "0.8178952932357788 \t 0.8178952932357788\n",
            "0.8130489587783813 \t 0.8130489587783813\n",
            "0.5693403482437134 \t 0.5693403482437134\n",
            "0.041106853634119034 \t 0.041106853634119034\n",
            "0.29886147379875183 \t 0.29886147379875183\n",
            "0.253679484128952 \t 0.253679484128952\n",
            "<class 'torch.cuda.FloatStorage'>\n"
          ],
          "name": "stdout"
        }
      ]
    },
    {
      "cell_type": "code",
      "metadata": {
        "id": "dKzfdLuH7JGo",
        "colab_type": "code",
        "colab": {
          "base_uri": "https://localhost:8080/",
          "height": 347
        },
        "outputId": "de48b8da-4644-4762-903e-267c244c8184"
      },
      "source": [
        "d4by4t = d4by4.transpose(0,1)\n",
        "s1 = d4by4.storage()\n",
        "s2 = d4by4t.storage()\n",
        "tensor_diff(s1,s2)"
      ],
      "execution_count": null,
      "outputs": [
        {
          "output_type": "stream",
          "text": [
            "original\t \t tanspose\n",
            "---------------------------------------------\n",
            "0.27443996476387195 \t 0.27443996476387195\n",
            "0.7909964208632491 \t 0.7909964208632491\n",
            "0.24810921747828496 \t 0.24810921747828496\n",
            "0.4610872886743067 \t 0.4610872886743067\n",
            "0.9067809117823086 \t 0.9067809117823086\n",
            "0.9840848365864997 \t 0.9840848365864997\n",
            "0.23617887747407237 \t 0.23617887747407237\n",
            "0.7728756865566649 \t 0.7728756865566649\n",
            "0.8815547663377853 \t 0.8815547663377853\n",
            "0.6979724507248452 \t 0.6979724507248452\n",
            "0.4576822555236815 \t 0.4576822555236815\n",
            "0.9054587650016893 \t 0.9054587650016893\n",
            "0.9298543030511198 \t 0.9298543030511198\n",
            "0.7584870155648685 \t 0.7584870155648685\n",
            "0.2536322992119109 \t 0.2536322992119109\n",
            "0.08180210473993851 \t 0.08180210473993851\n",
            "<class 'torch.cuda.DoubleStorage'>\n"
          ],
          "name": "stdout"
        }
      ]
    },
    {
      "cell_type": "code",
      "metadata": {
        "id": "whF_MEpW7RLH",
        "colab_type": "code",
        "colab": {
          "base_uri": "https://localhost:8080/",
          "height": 1000
        },
        "outputId": "84abf346-95b5-4c4b-a2e4-08668b796c34"
      },
      "source": [
        "s5by3by4t = s5by3by4.transpose(0,2)\n",
        "s1 = s5by3by4.storage()\n",
        "s2 = s5by3by4t.storage()\n",
        "tensor_diff(s1,s2)"
      ],
      "execution_count": null,
      "outputs": [
        {
          "output_type": "stream",
          "text": [
            "original\t \t tanspose\n",
            "---------------------------------------------\n",
            "28 \t 28\n",
            "380 \t 380\n",
            "396 \t 396\n",
            "396 \t 396\n",
            "484 \t 484\n",
            "458 \t 458\n",
            "206 \t 206\n",
            "12 \t 12\n",
            "146 \t 146\n",
            "24 \t 24\n",
            "102 \t 102\n",
            "396 \t 396\n",
            "320 \t 320\n",
            "446 \t 446\n",
            "424 \t 424\n",
            "300 \t 300\n",
            "122 \t 122\n",
            "186 \t 186\n",
            "86 \t 86\n",
            "124 \t 124\n",
            "244 \t 244\n",
            "90 \t 90\n",
            "482 \t 482\n",
            "2 \t 2\n",
            "280 \t 280\n",
            "170 \t 170\n",
            "440 \t 440\n",
            "220 \t 220\n",
            "256 \t 256\n",
            "184 \t 184\n",
            "24 \t 24\n",
            "490 \t 490\n",
            "252 \t 252\n",
            "192 \t 192\n",
            "360 \t 360\n",
            "228 \t 228\n",
            "120 \t 120\n",
            "84 \t 84\n",
            "390 \t 390\n",
            "42 \t 42\n",
            "116 \t 116\n",
            "300 \t 300\n",
            "0 \t 0\n",
            "394 \t 394\n",
            "122 \t 122\n",
            "300 \t 300\n",
            "170 \t 170\n",
            "82 \t 82\n",
            "238 \t 238\n",
            "108 \t 108\n",
            "364 \t 364\n",
            "80 \t 80\n",
            "10 \t 10\n",
            "456 \t 456\n",
            "504 \t 504\n",
            "456 \t 456\n",
            "490 \t 490\n",
            "478 \t 478\n",
            "42 \t 42\n",
            "374 \t 374\n",
            "<class 'torch.cuda.IntStorage'>\n"
          ],
          "name": "stdout"
        }
      ]
    },
    {
      "cell_type": "markdown",
      "metadata": {
        "id": "6nwcqcd5-Pdp",
        "colab_type": "text"
      },
      "source": [
        "## storage offset and contiguous\n"
      ]
    },
    {
      "cell_type": "code",
      "metadata": {
        "id": "XpiwPQrj7Vvq",
        "colab_type": "code",
        "colab": {
          "base_uri": "https://localhost:8080/",
          "height": 69
        },
        "outputId": "42c99d63-e8d3-4c6c-892e-f0c4e4a422a6"
      },
      "source": [
        "print(f3by3[2,1].storage_offset())\n",
        "print(d4by4.storage_offset())\n",
        "print(s5by3by4[2,2,1].storage_offset())"
      ],
      "execution_count": null,
      "outputs": [
        {
          "output_type": "stream",
          "text": [
            "7\n",
            "0\n",
            "33\n"
          ],
          "name": "stdout"
        }
      ]
    },
    {
      "cell_type": "code",
      "metadata": {
        "id": "c_6OYntP_FNt",
        "colab_type": "code",
        "colab": {
          "base_uri": "https://localhost:8080/",
          "height": 69
        },
        "outputId": "b20ac9dd-f403-4625-bb88-d271bd81a812"
      },
      "source": [
        "print(f3by3[2,2].size())\n",
        "print(d4by4.size())\n",
        "print(s5by3by4[2,2].size())"
      ],
      "execution_count": null,
      "outputs": [
        {
          "output_type": "stream",
          "text": [
            "torch.Size([])\n",
            "torch.Size([4, 4])\n",
            "torch.Size([4])\n"
          ],
          "name": "stdout"
        }
      ]
    },
    {
      "cell_type": "code",
      "metadata": {
        "id": "1Dc3wVue_lax",
        "colab_type": "code",
        "colab": {
          "base_uri": "https://localhost:8080/",
          "height": 69
        },
        "outputId": "6df7fd1d-72d5-4d74-e44a-a75fce443f0f"
      },
      "source": [
        "print(f3by3.is_contiguous())\n",
        "print(d4by4t.is_contiguous())\n",
        "print(s5by3by4.is_contiguous())"
      ],
      "execution_count": null,
      "outputs": [
        {
          "output_type": "stream",
          "text": [
            "True\n",
            "False\n",
            "True\n"
          ],
          "name": "stdout"
        }
      ]
    },
    {
      "cell_type": "code",
      "metadata": {
        "id": "e5rHvXOTAumI",
        "colab_type": "code",
        "colab": {
          "base_uri": "https://localhost:8080/",
          "height": 34
        },
        "outputId": "40e5229e-7ecf-42f2-af5d-8f3c94a654b1"
      },
      "source": [
        "d4by4tc = d4by4t.contiguous()\n",
        "print(d4by4tc.is_contiguous())"
      ],
      "execution_count": null,
      "outputs": [
        {
          "output_type": "stream",
          "text": [
            "True\n"
          ],
          "name": "stdout"
        }
      ]
    },
    {
      "cell_type": "markdown",
      "metadata": {
        "id": "h2EOhzDBAnf7",
        "colab_type": "text"
      },
      "source": [
        "## save and load usig h5py"
      ]
    },
    {
      "cell_type": "code",
      "metadata": {
        "id": "sXSZYh6RAnJ4",
        "colab_type": "code",
        "colab": {}
      },
      "source": [
        "with h5py.File('f3by3_0_0.hdf5', 'w') as pyout:\n",
        "    pyout.create_dataset('values', data=f3by3[0,0].cpu().numpy())\n",
        "with h5py.File('d4by4_1_1.hdf5', 'w') as pyout:\n",
        "    pyout.create_dataset('values', data=d4by4[1,1].cpu().numpy())\n",
        "with h5py.File('s5by3by4_2_0_3.hdf5', 'w') as pyout:\n",
        "    pyout.create_dataset('values', data=s5by3by4[2,0,3].cpu().numpy())"
      ],
      "execution_count": null,
      "outputs": []
    },
    {
      "cell_type": "code",
      "metadata": {
        "id": "f8rdctCJDC06",
        "colab_type": "code",
        "colab": {
          "base_uri": "https://localhost:8080/",
          "height": 69
        },
        "outputId": "808a00d7-a0ca-4997-b5e9-a87c96709a10"
      },
      "source": [
        "with h5py.File('f3by3_0_0.hdf5', 'r') as pyin:\n",
        "    print(torch.from_numpy(np.array(pyin['values'])))\n",
        "with h5py.File('d4by4_1_1.hdf5', 'r') as pyin:\n",
        "    print(torch.from_numpy(np.array(pyin['values'])))\n",
        "with h5py.File('s5by3by4_2_0_3.hdf5', 'r') as pyin:\n",
        "    print(torch.from_numpy(np.array(pyin['values'])))"
      ],
      "execution_count": null,
      "outputs": [
        {
          "output_type": "stream",
          "text": [
            "tensor(1.4239)\n",
            "tensor(0.9841, dtype=torch.float64)\n",
            "tensor(220, dtype=torch.int32)\n"
          ],
          "name": "stdout"
        }
      ]
    },
    {
      "cell_type": "markdown",
      "metadata": {
        "id": "OJF48Ekmg34H",
        "colab_type": "text"
      },
      "source": [
        "## Autograd"
      ]
    },
    {
      "cell_type": "code",
      "metadata": {
        "id": "Cwkvi1FJhzuc",
        "colab_type": "code",
        "cellView": "both",
        "colab": {
          "base_uri": "https://localhost:8080/",
          "height": 34
        },
        "outputId": "ec81da1b-cffb-4405-9a96-6b4d6c3d7fdb"
      },
      "source": [
        "#@title Without Autograd\n",
        "dtype = torch.float\n",
        "device = torch.device(\"cuda:0\")\n",
        "\n",
        "epochs = 5000\n",
        "batch = 128\n",
        "input_dim = 196\n",
        "hidden_dim = 74\n",
        "output_dim = 8\n",
        "\n",
        "x = torch.randn(batch, input_dim, device=device, dtype=dtype)\n",
        "y = torch.randn(batch, output_dim, device=device, dtype=dtype)\n",
        "\n",
        "w1 = torch.randn(input_dim, hidden_dim, device=device, dtype=dtype)\n",
        "w2 = torch.randn(hidden_dim, output_dim, device=device, dtype=dtype)\n",
        "\n",
        "learning_rate = 1e-8\n",
        "for epoch in range(epochs):\n",
        "    # forward\n",
        "    hidden = x.mm(w1)\n",
        "    # activation function Relu\n",
        "    hidden_relu = hidden.clamp(min=0)\n",
        "    y_pred = hidden_relu.mm(w2)\n",
        "\n",
        "    loss = (y_pred - y).pow(2).sum().item()\n",
        "    \n",
        "    print('\\repoch :',epoch,'\\tloss:', loss,end='|')\n",
        "    ratio = int(epoch*100/epochs) + 1\n",
        "    print('#'*ratio+'-'*(100-ratio),end='|')\n",
        "\n",
        "    # backprop to compute gradients of w1 and w2 with respect to loss\n",
        "    grad_y_pred = 2.0 * (y_pred - y)\n",
        "    grad_w2 = hidden_relu.t().mm(grad_y_pred)\n",
        "    grad_hidden_relu = grad_y_pred.mm(w2.t())\n",
        "    grad_hidden = grad_hidden_relu.clone()\n",
        "    grad_hidden[hidden < 0] = 0\n",
        "    grad_w1 = x.t().mm(grad_hidden)\n",
        "\n",
        "    # update weights using gradient descent\n",
        "    w1 -= learning_rate * grad_w1\n",
        "    w2 -= learning_rate * grad_w2"
      ],
      "execution_count": 3,
      "outputs": [
        {
          "output_type": "stream",
          "text": [
            "epoch : 4999 \tloss: 406769.15625|####################################################################################################|"
          ],
          "name": "stdout"
        }
      ]
    },
    {
      "cell_type": "code",
      "metadata": {
        "id": "dT-_hleRsUsH",
        "colab_type": "code",
        "cellView": "both",
        "colab": {
          "base_uri": "https://localhost:8080/",
          "height": 34
        },
        "outputId": "240e6b81-f8a3-42cb-adad-321275f59224"
      },
      "source": [
        "#@title With Autograd\n",
        "dtype = torch.float\n",
        "device = torch.device(\"cuda:0\")\n",
        "\n",
        "epochs = 5000\n",
        "batch = 128\n",
        "input_dim = 196\n",
        "hidden_dim = 74\n",
        "output_dim = 8\n",
        "\n",
        "x = torch.randn(batch, input_dim, device=device, dtype=dtype)\n",
        "y = torch.randn(batch, output_dim, device=device, dtype=dtype)\n",
        "\n",
        "\n",
        "w1 = torch.randn(input_dim, hidden_dim, device=device,\n",
        "                 dtype=dtype, requires_grad=True)\n",
        "w2 = torch.randn(hidden_dim, output_dim, device=device,\n",
        "                 dtype=dtype, requires_grad=True)\n",
        "\n",
        "learning_rate = 1e-8\n",
        "for epoch in range(epochs):\n",
        "    # forward activation function Relu\n",
        "    y_pred = x.mm(w1).clamp(min=0).mm(w2)\n",
        "\n",
        "    loss = (y_pred - y).pow(2).sum()\n",
        "\n",
        "    # backprop with autograd\n",
        "    loss.backward()\n",
        "\n",
        "    print('\\repoch :',epoch,'\\tloss:', loss.item(), end='|')\n",
        "    ratio = int(epoch*100/epochs)+1\n",
        "    print('#'*ratio+'-'*(100-ratio),end='|')\n",
        "\n",
        "    with torch.no_grad():\n",
        "        # update weights\n",
        "        w1 -= learning_rate * w1.grad\n",
        "        w2 -= learning_rate * w2.grad\n",
        "\n",
        "        # set gradients to zero in place\n",
        "        w1.grad.zero_()\n",
        "        w2.grad.zero_()"
      ],
      "execution_count": 4,
      "outputs": [
        {
          "output_type": "stream",
          "text": [
            "epoch : 4999 \tloss: 388931.0625|####################################################################################################|"
          ],
          "name": "stdout"
        }
      ]
    },
    {
      "cell_type": "markdown",
      "metadata": {
        "id": "pSf1q4wEDDa4",
        "colab_type": "text"
      },
      "source": [
        "## utils"
      ]
    },
    {
      "cell_type": "code",
      "metadata": {
        "id": "kYR9IffK8lVm",
        "colab_type": "code",
        "colab": {}
      },
      "source": [
        "def tensor_diff(s1,s2):\n",
        "    l1 = len(s1)\n",
        "    l2 = len(s2)\n",
        "    assert l1 == l2\n",
        "    print('original\\t','\\t','tanspose')\n",
        "    print('-'*45)\n",
        "    [print(s1[i],'\\t',s2[i]) for i in range(l1)]\n",
        "    print(type(s1))"
      ],
      "execution_count": null,
      "outputs": []
    }
  ]
}